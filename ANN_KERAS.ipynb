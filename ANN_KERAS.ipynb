{
  "nbformat": 4,
  "nbformat_minor": 0,
  "metadata": {
    "colab": {
      "name": "ANN-KERAS.ipynb",
      "provenance": [],
      "collapsed_sections": []
    },
    "kernelspec": {
      "name": "python3",
      "display_name": "Python 3"
    },
    "language_info": {
      "name": "python"
    },
    "accelerator": "GPU"
  },
  "cells": [
    {
      "cell_type": "code",
      "metadata": {
        "id": "cL4IEdSjl8eN"
      },
      "source": [
        "from keras.models import Sequential\n",
        "from keras.utils import np_utils\n",
        "from keras.layers.core import Dense, Activation, Dropout\n",
        "\n",
        "import pandas as pd\n",
        "import numpy as np"
      ],
      "execution_count": 1,
      "outputs": []
    },
    {
      "cell_type": "code",
      "metadata": {
        "id": "HYychfQdrauy"
      },
      "source": [
        "from tensorflow.keras.utils import to_categorical"
      ],
      "execution_count": 7,
      "outputs": []
    },
    {
      "cell_type": "code",
      "metadata": {
        "colab": {
          "base_uri": "https://localhost:8080/"
        },
        "id": "sXnDmXR7RDr2",
        "outputId": "df041f3c-c677-4d1b-c93e-d6f67145b185"
      },
      "source": [
        "\n",
        "import tensorflow as tf\n",
        "device_name = tf.test.gpu_device_name()\n",
        "if device_name != '/device:GPU:0':\n",
        "  raise SystemError('GPU device not found')\n",
        "print('Found GPU at: {}'.format(device_name))"
      ],
      "execution_count": 2,
      "outputs": [
        {
          "output_type": "stream",
          "name": "stdout",
          "text": [
            "Found GPU at: /device:GPU:0\n"
          ]
        }
      ]
    },
    {
      "cell_type": "code",
      "metadata": {
        "colab": {
          "base_uri": "https://localhost:8080/"
        },
        "id": "O9JeUtHRqsqZ",
        "outputId": "ac58f588-ef5d-4550-f46f-acef8a7c93f1"
      },
      "source": [
        "X_train = np.load('/content/X_train.npy', allow_pickle= True)\n",
        "y_train = np.load('/content/Y_train.npy', allow_pickle= True)\n",
        "\n",
        "#Remains same regardless of oversampling\n",
        "X_test = np.load('/content/X_test.npy', allow_pickle= True)\n",
        "y_test = np.load('/content/Y_test.npy', allow_pickle= True)\n",
        "\n",
        "\n",
        "print(len(X_train),len(y_train),len(X_test),len(y_test))"
      ],
      "execution_count": 3,
      "outputs": [
        {
          "output_type": "stream",
          "name": "stdout",
          "text": [
            "1077 1077 462 462\n"
          ]
        }
      ]
    },
    {
      "cell_type": "code",
      "metadata": {
        "colab": {
          "base_uri": "https://localhost:8080/"
        },
        "id": "CoXAG3EurDQD",
        "outputId": "6071f98e-78c7-463b-b54e-32b0ddd66cb3"
      },
      "source": [
        "print(X_train.shape)\n",
        "print(y_train.shape)"
      ],
      "execution_count": 17,
      "outputs": [
        {
          "output_type": "stream",
          "name": "stdout",
          "text": [
            "(1077, 18)\n",
            "(1077,)\n"
          ]
        }
      ]
    },
    {
      "cell_type": "code",
      "metadata": {
        "colab": {
          "base_uri": "https://localhost:8080/"
        },
        "id": "BtenhD4GrGRC",
        "outputId": "57e537a1-1d1f-47b7-d248-6d0f55466824"
      },
      "source": [
        "# Convert target classes to categorical ones\n",
        "#Y_train = to_categorical(y_train, 2)\n",
        "#Y_test = to_categorical(y_test, 2)\n",
        "Y_train= y_train\n",
        "Y_test = y_test\n",
        "print(Y_train.shape)"
      ],
      "execution_count": 18,
      "outputs": [
        {
          "output_type": "stream",
          "name": "stdout",
          "text": [
            "(1077,)\n"
          ]
        }
      ]
    },
    {
      "cell_type": "code",
      "metadata": {
        "colab": {
          "base_uri": "https://localhost:8080/"
        },
        "id": "nSQekJAtrgZS",
        "outputId": "dfc0c60a-3f88-42a8-8371-1f8c11ae9d53"
      },
      "source": [
        "feature_vector_length = 18\n",
        "num_classes = 1\n",
        "# Set the input shape\n",
        "input_shape = (feature_vector_length,)\n",
        "print(f'Feature shape: {input_shape}')\n",
        "\n",
        "# Create the model\n",
        "model = Sequential()\n",
        "model.add(Dense(350, input_shape=input_shape, activation='relu'))\n",
        "model.add(Dense(50, activation='relu'))\n",
        "model.add(Dense(num_classes, activation='sigmoid'))"
      ],
      "execution_count": 19,
      "outputs": [
        {
          "output_type": "stream",
          "name": "stdout",
          "text": [
            "Feature shape: (18,)\n"
          ]
        }
      ]
    },
    {
      "cell_type": "code",
      "metadata": {
        "colab": {
          "base_uri": "https://localhost:8080/"
        },
        "id": "FJJdV_hvsHB7",
        "outputId": "e30e03c6-75b3-48bc-84e7-055dbdb81dab"
      },
      "source": [
        "# Configure the model and start training\n",
        "model.compile(loss='mse', optimizer='adam', metrics=['accuracy'])\n",
        "model.fit(X_train, Y_train, epochs=10, batch_size=32, verbose=1, validation_split=0.1)"
      ],
      "execution_count": 20,
      "outputs": [
        {
          "output_type": "stream",
          "name": "stdout",
          "text": [
            "Epoch 1/10\n",
            "31/31 [==============================] - 1s 9ms/step - loss: 0.1707 - accuracy: 0.7822 - val_loss: 0.1507 - val_accuracy: 0.8056\n",
            "Epoch 2/10\n",
            "31/31 [==============================] - 0s 5ms/step - loss: 0.1503 - accuracy: 0.8070 - val_loss: 0.1462 - val_accuracy: 0.8056\n",
            "Epoch 3/10\n",
            "31/31 [==============================] - 0s 5ms/step - loss: 0.1472 - accuracy: 0.8080 - val_loss: 0.1432 - val_accuracy: 0.8056\n",
            "Epoch 4/10\n",
            "31/31 [==============================] - 0s 5ms/step - loss: 0.1438 - accuracy: 0.8091 - val_loss: 0.1411 - val_accuracy: 0.8056\n",
            "Epoch 5/10\n",
            "31/31 [==============================] - 0s 5ms/step - loss: 0.1437 - accuracy: 0.8132 - val_loss: 0.1411 - val_accuracy: 0.8056\n",
            "Epoch 6/10\n",
            "31/31 [==============================] - 0s 5ms/step - loss: 0.1432 - accuracy: 0.8101 - val_loss: 0.1409 - val_accuracy: 0.8056\n",
            "Epoch 7/10\n",
            "31/31 [==============================] - 0s 5ms/step - loss: 0.1418 - accuracy: 0.8080 - val_loss: 0.1379 - val_accuracy: 0.8148\n",
            "Epoch 8/10\n",
            "31/31 [==============================] - 0s 5ms/step - loss: 0.1392 - accuracy: 0.8184 - val_loss: 0.1374 - val_accuracy: 0.8148\n",
            "Epoch 9/10\n",
            "31/31 [==============================] - 0s 5ms/step - loss: 0.1379 - accuracy: 0.8111 - val_loss: 0.1397 - val_accuracy: 0.8241\n",
            "Epoch 10/10\n",
            "31/31 [==============================] - 0s 5ms/step - loss: 0.1374 - accuracy: 0.8173 - val_loss: 0.1339 - val_accuracy: 0.8148\n"
          ]
        },
        {
          "output_type": "execute_result",
          "data": {
            "text/plain": [
              "<keras.callbacks.History at 0x7fe5ab749c50>"
            ]
          },
          "metadata": {},
          "execution_count": 20
        }
      ]
    },
    {
      "cell_type": "code",
      "metadata": {
        "colab": {
          "base_uri": "https://localhost:8080/"
        },
        "id": "a-BMXAzEsZQK",
        "outputId": "5bb23bc3-5615-4b6f-f36c-097e2b6ff381"
      },
      "source": [
        "# Test the model after training\n",
        "test_results = model.evaluate(X_test, Y_test, verbose=1)\n",
        "print(f'Test results - Loss: {test_results[0]} - Accuracy: {test_results[1]}%')"
      ],
      "execution_count": 21,
      "outputs": [
        {
          "output_type": "stream",
          "name": "stdout",
          "text": [
            "15/15 [==============================] - 0s 3ms/step - loss: 0.1486 - accuracy: 0.8009\n",
            "Test results - Loss: 0.14864103496074677 - Accuracy: 0.8008658289909363%\n"
          ]
        }
      ]
    },
    {
      "cell_type": "code",
      "metadata": {
        "colab": {
          "base_uri": "https://localhost:8080/"
        },
        "id": "oWBJMGMwx0aU",
        "outputId": "d9762f61-a60c-48ae-c3d1-0c7d77b9f587"
      },
      "source": [
        "!pip install -q -U keras-tuner\n",
        "import keras_tuner as kt"
      ],
      "execution_count": 16,
      "outputs": [
        {
          "output_type": "stream",
          "name": "stdout",
          "text": [
            "\u001b[?25l\r\u001b[K     |███▍                            | 10 kB 23.5 MB/s eta 0:00:01\r\u001b[K     |██████▊                         | 20 kB 25.4 MB/s eta 0:00:01\r\u001b[K     |██████████                      | 30 kB 11.9 MB/s eta 0:00:01\r\u001b[K     |█████████████▍                  | 40 kB 9.3 MB/s eta 0:00:01\r\u001b[K     |████████████████▊               | 51 kB 5.4 MB/s eta 0:00:01\r\u001b[K     |████████████████████            | 61 kB 5.9 MB/s eta 0:00:01\r\u001b[K     |███████████████████████▍        | 71 kB 5.7 MB/s eta 0:00:01\r\u001b[K     |██████████████████████████▊     | 81 kB 6.4 MB/s eta 0:00:01\r\u001b[K     |██████████████████████████████  | 92 kB 4.9 MB/s eta 0:00:01\r\u001b[K     |████████████████████████████████| 98 kB 3.1 MB/s \n",
            "\u001b[?25h"
          ]
        }
      ]
    },
    {
      "cell_type": "code",
      "metadata": {
        "id": "YzMpAw801QXj"
      },
      "source": [
        "import tensorflow as tf\n",
        "import keras"
      ],
      "execution_count": 24,
      "outputs": []
    },
    {
      "cell_type": "code",
      "metadata": {
        "id": "evM6NRf3vosD"
      },
      "source": [
        "def model_builder(hp):\n",
        "  model = keras.Sequential()\n",
        "\n",
        "  # Tune the number of units in the first Dense layer\n",
        "  # Choose an optimal value between 32-512\n",
        "  hp_units = hp.Int('units', min_value=32, max_value=1024, step=32)\n",
        "  model.add(keras.layers.Dense(units=hp_units, input_shape=input_shape,activation='relu'))\n",
        "  #Second Hidden Layer\n",
        "  hp_units_2 = hp.Int('units_2', min_value=32, max_value=512, step=32)\n",
        "  model.add(keras.layers.Dense(units=hp_units_2, activation='relu'))\n",
        "  \n",
        "  # Output Layer\n",
        "  model.add(Dense(num_classes, activation='sigmoid'))\n",
        "\n",
        "  # Tune the learning rate for the optimizer\n",
        "  # Choose an optimal value from 0.01, 0.001, or 0.0001\n",
        "  hp_learning_rate = hp.Choice('learning_rate', values=[1e-2, 1e-3, 1e-4])\n",
        "\n",
        "  model.compile(optimizer=tf.keras.optimizers.Adam(learning_rate=hp_learning_rate),\n",
        "                loss='mse',\n",
        "                metrics=['accuracy'])\n",
        "\n",
        "  return model"
      ],
      "execution_count": 48,
      "outputs": []
    },
    {
      "cell_type": "code",
      "metadata": {
        "id": "SAyFr3P00RDU"
      },
      "source": [
        "tuner = kt.Hyperband(model_builder,\n",
        "                     objective='val_accuracy',\n",
        "                     max_epochs=30,\n",
        "                     factor=3,\n",
        "                     directory='my_dir',\n",
        "                     project_name='ann3')"
      ],
      "execution_count": 49,
      "outputs": []
    },
    {
      "cell_type": "code",
      "metadata": {
        "id": "aSq1fUM-1baD"
      },
      "source": [
        "stop_early = tf.keras.callbacks.EarlyStopping(monitor='val_loss', patience=5)"
      ],
      "execution_count": 50,
      "outputs": []
    },
    {
      "cell_type": "code",
      "metadata": {
        "colab": {
          "base_uri": "https://localhost:8080/"
        },
        "id": "ADD1Ga5L1oub",
        "outputId": "39972ae7-4cd9-49a1-bc32-7e92604f58ad"
      },
      "source": [
        "tuner.search(X_train, Y_train, epochs=100, validation_split=0.2, callbacks=[stop_early])\n",
        "\n",
        "# Get the optimal hyperparameters\n",
        "best_hps=tuner.get_best_hyperparameters(num_trials=1)[0]\n",
        "\n",
        "print(f\"\"\"\n",
        "The hyperparameter search is complete. The optimal number of units in the first densely-connected\n",
        "layer is {best_hps.get('units')}  and the second densely-connected layer is {best_hps.get('units_2')}and the optimal learning rate for the optimizer\n",
        "is {best_hps.get('learning_rate')}.\n",
        "\"\"\")"
      ],
      "execution_count": 51,
      "outputs": [
        {
          "output_type": "stream",
          "name": "stdout",
          "text": [
            "Trial 90 Complete [00h 00m 02s]\n",
            "val_accuracy: 0.8287037014961243\n",
            "\n",
            "Best val_accuracy So Far: 0.8287037014961243\n",
            "Total elapsed time: 00h 02m 52s\n",
            "INFO:tensorflow:Oracle triggered exit\n"
          ]
        },
        {
          "output_type": "stream",
          "name": "stderr",
          "text": [
            "INFO:tensorflow:Oracle triggered exit\n"
          ]
        },
        {
          "output_type": "stream",
          "name": "stdout",
          "text": [
            "\n",
            "The hyperparameter search is complete. The optimal number of units in the first densely-connected\n",
            "layer is 704  and the second densely-connected layer is 32and the optimal learning rate for the optimizer\n",
            "is 0.01.\n",
            "\n"
          ]
        }
      ]
    },
    {
      "cell_type": "code",
      "metadata": {
        "id": "McO82AXOuxXh",
        "colab": {
          "base_uri": "https://localhost:8080/"
        },
        "outputId": "d835b019-83b9-4e0f-b6d1-fc44b1237f0e"
      },
      "source": [
        "# Build the model with the optimal hyperparameters and train it on the data for 50 epochs\n",
        "model = tuner.hypermodel.build(best_hps)\n",
        "history = model.fit(X_train, Y_train, epochs=50, validation_split=0.2)\n",
        "\n",
        "val_acc_per_epoch = history.history['val_accuracy']\n",
        "best_epoch = val_acc_per_epoch.index(max(val_acc_per_epoch)) + 1\n",
        "print('Best epoch: %d' % (best_epoch,))"
      ],
      "execution_count": 53,
      "outputs": [
        {
          "output_type": "stream",
          "name": "stdout",
          "text": [
            "Epoch 1/50\n",
            "27/27 [==============================] - 1s 11ms/step - loss: 0.1770 - accuracy: 0.8014 - val_loss: 0.1423 - val_accuracy: 0.8241\n",
            "Epoch 2/50\n",
            "27/27 [==============================] - 0s 7ms/step - loss: 0.1523 - accuracy: 0.8014 - val_loss: 0.1448 - val_accuracy: 0.8009\n",
            "Epoch 3/50\n",
            "27/27 [==============================] - 0s 5ms/step - loss: 0.1491 - accuracy: 0.8130 - val_loss: 0.1361 - val_accuracy: 0.8194\n",
            "Epoch 4/50\n",
            "27/27 [==============================] - 0s 6ms/step - loss: 0.1446 - accuracy: 0.8118 - val_loss: 0.1347 - val_accuracy: 0.8287\n",
            "Epoch 5/50\n",
            "27/27 [==============================] - 0s 6ms/step - loss: 0.1501 - accuracy: 0.8107 - val_loss: 0.1353 - val_accuracy: 0.8194\n",
            "Epoch 6/50\n",
            "27/27 [==============================] - 0s 6ms/step - loss: 0.1474 - accuracy: 0.8130 - val_loss: 0.1455 - val_accuracy: 0.8102\n",
            "Epoch 7/50\n",
            "27/27 [==============================] - 0s 6ms/step - loss: 0.1453 - accuracy: 0.8153 - val_loss: 0.1389 - val_accuracy: 0.8194\n",
            "Epoch 8/50\n",
            "27/27 [==============================] - 0s 6ms/step - loss: 0.1423 - accuracy: 0.8188 - val_loss: 0.1365 - val_accuracy: 0.8102\n",
            "Epoch 9/50\n",
            "27/27 [==============================] - 0s 6ms/step - loss: 0.1435 - accuracy: 0.8072 - val_loss: 0.1342 - val_accuracy: 0.8241\n",
            "Epoch 10/50\n",
            "27/27 [==============================] - 0s 6ms/step - loss: 0.1480 - accuracy: 0.8095 - val_loss: 0.1369 - val_accuracy: 0.8056\n",
            "Epoch 11/50\n",
            "27/27 [==============================] - 0s 6ms/step - loss: 0.1411 - accuracy: 0.8130 - val_loss: 0.1340 - val_accuracy: 0.8194\n",
            "Epoch 12/50\n",
            "27/27 [==============================] - 0s 5ms/step - loss: 0.1384 - accuracy: 0.8165 - val_loss: 0.1349 - val_accuracy: 0.8194\n",
            "Epoch 13/50\n",
            "27/27 [==============================] - 0s 5ms/step - loss: 0.1383 - accuracy: 0.8211 - val_loss: 0.1360 - val_accuracy: 0.8148\n",
            "Epoch 14/50\n",
            "27/27 [==============================] - 0s 5ms/step - loss: 0.1371 - accuracy: 0.8200 - val_loss: 0.1396 - val_accuracy: 0.8287\n",
            "Epoch 15/50\n",
            "27/27 [==============================] - 0s 6ms/step - loss: 0.1397 - accuracy: 0.8246 - val_loss: 0.1428 - val_accuracy: 0.8194\n",
            "Epoch 16/50\n",
            "27/27 [==============================] - 0s 5ms/step - loss: 0.1454 - accuracy: 0.8153 - val_loss: 0.1372 - val_accuracy: 0.8102\n",
            "Epoch 17/50\n",
            "27/27 [==============================] - 0s 6ms/step - loss: 0.1374 - accuracy: 0.8130 - val_loss: 0.1388 - val_accuracy: 0.8241\n",
            "Epoch 18/50\n",
            "27/27 [==============================] - 0s 6ms/step - loss: 0.1334 - accuracy: 0.8235 - val_loss: 0.1409 - val_accuracy: 0.7963\n",
            "Epoch 19/50\n",
            "27/27 [==============================] - 0s 6ms/step - loss: 0.1355 - accuracy: 0.8188 - val_loss: 0.1412 - val_accuracy: 0.8148\n",
            "Epoch 20/50\n",
            "27/27 [==============================] - 0s 6ms/step - loss: 0.1330 - accuracy: 0.8235 - val_loss: 0.1383 - val_accuracy: 0.8241\n",
            "Epoch 21/50\n",
            "27/27 [==============================] - 0s 6ms/step - loss: 0.1284 - accuracy: 0.8211 - val_loss: 0.1412 - val_accuracy: 0.8102\n",
            "Epoch 22/50\n",
            "27/27 [==============================] - 0s 5ms/step - loss: 0.1309 - accuracy: 0.8223 - val_loss: 0.1391 - val_accuracy: 0.8241\n",
            "Epoch 23/50\n",
            "27/27 [==============================] - 0s 6ms/step - loss: 0.1287 - accuracy: 0.8235 - val_loss: 0.1500 - val_accuracy: 0.7963\n",
            "Epoch 24/50\n",
            "27/27 [==============================] - 0s 5ms/step - loss: 0.1303 - accuracy: 0.8293 - val_loss: 0.1398 - val_accuracy: 0.8287\n",
            "Epoch 25/50\n",
            "27/27 [==============================] - 0s 6ms/step - loss: 0.1261 - accuracy: 0.8304 - val_loss: 0.1461 - val_accuracy: 0.8102\n",
            "Epoch 26/50\n",
            "27/27 [==============================] - 0s 6ms/step - loss: 0.1300 - accuracy: 0.8269 - val_loss: 0.1582 - val_accuracy: 0.8148\n",
            "Epoch 27/50\n",
            "27/27 [==============================] - 0s 6ms/step - loss: 0.1343 - accuracy: 0.8269 - val_loss: 0.1432 - val_accuracy: 0.8241\n",
            "Epoch 28/50\n",
            "27/27 [==============================] - 0s 5ms/step - loss: 0.1226 - accuracy: 0.8316 - val_loss: 0.1579 - val_accuracy: 0.7870\n",
            "Epoch 29/50\n",
            "27/27 [==============================] - 0s 5ms/step - loss: 0.1257 - accuracy: 0.8316 - val_loss: 0.1454 - val_accuracy: 0.8241\n",
            "Epoch 30/50\n",
            "27/27 [==============================] - 0s 5ms/step - loss: 0.1238 - accuracy: 0.8409 - val_loss: 0.1452 - val_accuracy: 0.8194\n",
            "Epoch 31/50\n",
            "27/27 [==============================] - 0s 6ms/step - loss: 0.1229 - accuracy: 0.8339 - val_loss: 0.1660 - val_accuracy: 0.7824\n",
            "Epoch 32/50\n",
            "27/27 [==============================] - 0s 5ms/step - loss: 0.1226 - accuracy: 0.8281 - val_loss: 0.1457 - val_accuracy: 0.8194\n",
            "Epoch 33/50\n",
            "27/27 [==============================] - 0s 6ms/step - loss: 0.1242 - accuracy: 0.8316 - val_loss: 0.1590 - val_accuracy: 0.7917\n",
            "Epoch 34/50\n",
            "27/27 [==============================] - 0s 7ms/step - loss: 0.1186 - accuracy: 0.8339 - val_loss: 0.1571 - val_accuracy: 0.7870\n",
            "Epoch 35/50\n",
            "27/27 [==============================] - 0s 6ms/step - loss: 0.1262 - accuracy: 0.8246 - val_loss: 0.1473 - val_accuracy: 0.8241\n",
            "Epoch 36/50\n",
            "27/27 [==============================] - 0s 5ms/step - loss: 0.1204 - accuracy: 0.8328 - val_loss: 0.1500 - val_accuracy: 0.8056\n",
            "Epoch 37/50\n",
            "27/27 [==============================] - 0s 6ms/step - loss: 0.1192 - accuracy: 0.8328 - val_loss: 0.1674 - val_accuracy: 0.7824\n",
            "Epoch 38/50\n",
            "27/27 [==============================] - 0s 6ms/step - loss: 0.1163 - accuracy: 0.8328 - val_loss: 0.1535 - val_accuracy: 0.8056\n",
            "Epoch 39/50\n",
            "27/27 [==============================] - 0s 6ms/step - loss: 0.1135 - accuracy: 0.8409 - val_loss: 0.1556 - val_accuracy: 0.8056\n",
            "Epoch 40/50\n",
            "27/27 [==============================] - 0s 6ms/step - loss: 0.1149 - accuracy: 0.8374 - val_loss: 0.1691 - val_accuracy: 0.7824\n",
            "Epoch 41/50\n",
            "27/27 [==============================] - 0s 6ms/step - loss: 0.1120 - accuracy: 0.8432 - val_loss: 0.1539 - val_accuracy: 0.8102\n",
            "Epoch 42/50\n",
            "27/27 [==============================] - 0s 5ms/step - loss: 0.1112 - accuracy: 0.8455 - val_loss: 0.1754 - val_accuracy: 0.7731\n",
            "Epoch 43/50\n",
            "27/27 [==============================] - 0s 6ms/step - loss: 0.1126 - accuracy: 0.8467 - val_loss: 0.1662 - val_accuracy: 0.7685\n",
            "Epoch 44/50\n",
            "27/27 [==============================] - 0s 6ms/step - loss: 0.1213 - accuracy: 0.8409 - val_loss: 0.1584 - val_accuracy: 0.7963\n",
            "Epoch 45/50\n",
            "27/27 [==============================] - 0s 6ms/step - loss: 0.1143 - accuracy: 0.8525 - val_loss: 0.1521 - val_accuracy: 0.8287\n",
            "Epoch 46/50\n",
            "27/27 [==============================] - 0s 6ms/step - loss: 0.1091 - accuracy: 0.8479 - val_loss: 0.1646 - val_accuracy: 0.7870\n",
            "Epoch 47/50\n",
            "27/27 [==============================] - 0s 6ms/step - loss: 0.1063 - accuracy: 0.8583 - val_loss: 0.1724 - val_accuracy: 0.7639\n",
            "Epoch 48/50\n",
            "27/27 [==============================] - 0s 6ms/step - loss: 0.1055 - accuracy: 0.8571 - val_loss: 0.1688 - val_accuracy: 0.7685\n",
            "Epoch 49/50\n",
            "27/27 [==============================] - 0s 5ms/step - loss: 0.1085 - accuracy: 0.8560 - val_loss: 0.1715 - val_accuracy: 0.7870\n",
            "Epoch 50/50\n",
            "27/27 [==============================] - 0s 6ms/step - loss: 0.1098 - accuracy: 0.8490 - val_loss: 0.1621 - val_accuracy: 0.8009\n",
            "Best epoch: 4\n"
          ]
        }
      ]
    },
    {
      "cell_type": "code",
      "metadata": {
        "colab": {
          "base_uri": "https://localhost:8080/"
        },
        "id": "qxcqEKBW9AE2",
        "outputId": "5649fffd-6008-4e56-b954-b3518680efff"
      },
      "source": [
        "hypermodel = tuner.hypermodel.build(best_hps)\n",
        "\n",
        "# Retrain the model\n",
        "hypermodel.fit(X_train, Y_train, epochs=best_epoch, validation_split=0.2)"
      ],
      "execution_count": 54,
      "outputs": [
        {
          "output_type": "stream",
          "name": "stdout",
          "text": [
            "Epoch 1/4\n",
            "27/27 [==============================] - 1s 11ms/step - loss: 0.1680 - accuracy: 0.8026 - val_loss: 0.1390 - val_accuracy: 0.8241\n",
            "Epoch 2/4\n",
            "27/27 [==============================] - 0s 6ms/step - loss: 0.1549 - accuracy: 0.8084 - val_loss: 0.1391 - val_accuracy: 0.8194\n",
            "Epoch 3/4\n",
            "27/27 [==============================] - 0s 5ms/step - loss: 0.1462 - accuracy: 0.8072 - val_loss: 0.1352 - val_accuracy: 0.8194\n",
            "Epoch 4/4\n",
            "27/27 [==============================] - 0s 6ms/step - loss: 0.1508 - accuracy: 0.8072 - val_loss: 0.1340 - val_accuracy: 0.8194\n"
          ]
        },
        {
          "output_type": "execute_result",
          "data": {
            "text/plain": [
              "<keras.callbacks.History at 0x7fe5afb11a50>"
            ]
          },
          "metadata": {},
          "execution_count": 54
        }
      ]
    },
    {
      "cell_type": "code",
      "metadata": {
        "colab": {
          "base_uri": "https://localhost:8080/"
        },
        "id": "JMWDAL199K7F",
        "outputId": "53d5d3dd-982c-4d9d-9b0d-cb1e6544a052"
      },
      "source": [
        "eval_result = hypermodel.evaluate(X_test, Y_test)\n",
        "print(\"[test loss, test accuracy]:\", eval_result)"
      ],
      "execution_count": 55,
      "outputs": [
        {
          "output_type": "stream",
          "name": "stdout",
          "text": [
            "15/15 [==============================] - 0s 3ms/step - loss: 0.1482 - accuracy: 0.8052\n",
            "[test loss, test accuracy]: [0.14823348820209503, 0.8051947951316833]\n"
          ]
        }
      ]
    },
    {
      "cell_type": "code",
      "metadata": {
        "id": "0iHBsaSN9Pf1"
      },
      "source": [
        ""
      ],
      "execution_count": 56,
      "outputs": []
    },
    {
      "cell_type": "markdown",
      "metadata": {
        "id": "MxNCU7yBDxZe"
      },
      "source": [
        "# With Dropout"
      ]
    },
    {
      "cell_type": "code",
      "metadata": {
        "id": "cTHjoKT-CplH"
      },
      "source": [
        "def model_builder(hp):\n",
        "  model = keras.Sequential()\n",
        "\n",
        "  # Tune the number of units in the first Dense layer\n",
        "  # Choose an optimal value between 32-512\n",
        "  hp_units = hp.Int('units', min_value=32, max_value=1024, step=32)\n",
        "  model.add(keras.layers.Dense(units=hp_units, input_shape=input_shape,activation='relu'))\n",
        "  #Dropout 1\n",
        "  hp_float =hp.Float('dropout_1',min_value=0.0,max_value=0.5,default=0.2,step=0.05)\n",
        "  model.add(Dropout(rate=hp_float))\n",
        "\n",
        "  #Second Hidden Layer\n",
        "  hp_units_2 = hp.Int('units_2', min_value=32, max_value=512, step=32)\n",
        "  model.add(keras.layers.Dense(units=hp_units_2, activation='relu'))\n",
        "  #Dropout 2\n",
        "  hp_float_2 =hp.Float('dropout_2',min_value=0.0,max_value=0.5,default=0.25,step=0.05)\n",
        "  model.add(Dropout(rate=hp_float_2))\n",
        "  # Output Layer\n",
        "  model.add(Dense(num_classes, activation='sigmoid'))\n",
        "\n",
        "  # Tune the learning rate for the optimizer\n",
        "  # Choose an optimal value from 0.01, 0.001, or 0.0001\n",
        "  hp_learning_rate = hp.Choice('learning_rate', values=[1e-2, 1e-3, 1e-4])\n",
        "\n",
        "  model.compile(optimizer=tf.keras.optimizers.Adam(learning_rate=hp_learning_rate),\n",
        "                loss='mse',\n",
        "                metrics=['accuracy'])\n",
        "\n",
        "  return model"
      ],
      "execution_count": 57,
      "outputs": []
    },
    {
      "cell_type": "code",
      "metadata": {
        "id": "ha_pUkexD26h"
      },
      "source": [
        "tuner = kt.Hyperband(model_builder,\n",
        "                     objective='val_accuracy',\n",
        "                     max_epochs=50,\n",
        "                     factor=3,\n",
        "                     directory='my_dir',\n",
        "                     project_name='ann4DR')"
      ],
      "execution_count": 58,
      "outputs": []
    },
    {
      "cell_type": "code",
      "metadata": {
        "id": "4EJQS3kfD23N"
      },
      "source": [
        "stop_early = tf.keras.callbacks.EarlyStopping(monitor='val_loss', patience=7)"
      ],
      "execution_count": 59,
      "outputs": []
    },
    {
      "cell_type": "code",
      "metadata": {
        "colab": {
          "base_uri": "https://localhost:8080/"
        },
        "id": "Wo3JSBkPD2uF",
        "outputId": "eff5d6dc-1498-4c40-99f6-17ca45685227"
      },
      "source": [
        "tuner.search(X_train, Y_train, epochs=100, validation_split=0.2, callbacks=[stop_early])\n",
        "\n",
        "# Get the optimal hyperparameters\n",
        "best_hps=tuner.get_best_hyperparameters(num_trials=1)[0]\n",
        "\n",
        "print(f\"\"\"\n",
        "The hyperparameter search is complete. The optimal number of units in the first densely-connected\n",
        "layer is {best_hps.get('units')}  and the second densely-connected layer is {best_hps.get('units_2')}and the optimal learning rate for the optimizer\n",
        "is {best_hps.get('learning_rate')}. Dropout 1 is {best_hps.get('dropout_1')} and Dropout 2 is {best_hps.get('dropout_2')}\n",
        "\"\"\")"
      ],
      "execution_count": 60,
      "outputs": [
        {
          "output_type": "stream",
          "name": "stdout",
          "text": [
            "Trial 90 Complete [00h 00m 02s]\n",
            "val_accuracy: 0.8240740895271301\n",
            "\n",
            "Best val_accuracy So Far: 0.8333333134651184\n",
            "Total elapsed time: 00h 03m 45s\n",
            "INFO:tensorflow:Oracle triggered exit\n"
          ]
        },
        {
          "output_type": "stream",
          "name": "stderr",
          "text": [
            "INFO:tensorflow:Oracle triggered exit\n"
          ]
        },
        {
          "output_type": "stream",
          "name": "stdout",
          "text": [
            "\n",
            "The hyperparameter search is complete. The optimal number of units in the first densely-connected\n",
            "layer is 960  and the second densely-connected layer is 128and the optimal learning rate for the optimizer\n",
            "is 0.01. Dropout 1 is 0.5 and Dropout 2 is 0.15000000000000002\n",
            "\n"
          ]
        }
      ]
    },
    {
      "cell_type": "code",
      "metadata": {
        "colab": {
          "base_uri": "https://localhost:8080/"
        },
        "id": "Fa8O6kR3HsP3",
        "outputId": "1c9844de-c44f-4c46-c202-9527d63075ac"
      },
      "source": [
        "# Build the model with the optimal hyperparameters and train it on the data for 50 epochs\n",
        "model = tuner.hypermodel.build(best_hps)\n",
        "history = model.fit(X_train, Y_train, epochs=50, validation_split=0.2)\n",
        "\n",
        "val_acc_per_epoch = history.history['val_accuracy']\n",
        "best_epoch = val_acc_per_epoch.index(max(val_acc_per_epoch)) + 1\n",
        "print('Best epoch: %d' % (best_epoch,))"
      ],
      "execution_count": 61,
      "outputs": [
        {
          "output_type": "stream",
          "name": "stdout",
          "text": [
            "Epoch 1/50\n",
            "27/27 [==============================] - 1s 11ms/step - loss: 0.2021 - accuracy: 0.7991 - val_loss: 0.1759 - val_accuracy: 0.8241\n",
            "Epoch 2/50\n",
            "27/27 [==============================] - 0s 6ms/step - loss: 0.1974 - accuracy: 0.8026 - val_loss: 0.1759 - val_accuracy: 0.8241\n",
            "Epoch 3/50\n",
            "27/27 [==============================] - 0s 6ms/step - loss: 0.1974 - accuracy: 0.8026 - val_loss: 0.1759 - val_accuracy: 0.8241\n",
            "Epoch 4/50\n",
            "27/27 [==============================] - 0s 6ms/step - loss: 0.1974 - accuracy: 0.8026 - val_loss: 0.1759 - val_accuracy: 0.8241\n",
            "Epoch 5/50\n",
            "27/27 [==============================] - 0s 6ms/step - loss: 0.1974 - accuracy: 0.8026 - val_loss: 0.1759 - val_accuracy: 0.8241\n",
            "Epoch 6/50\n",
            "27/27 [==============================] - 0s 6ms/step - loss: 0.1974 - accuracy: 0.8026 - val_loss: 0.1759 - val_accuracy: 0.8241\n",
            "Epoch 7/50\n",
            "27/27 [==============================] - 0s 6ms/step - loss: 0.1974 - accuracy: 0.8026 - val_loss: 0.1759 - val_accuracy: 0.8241\n",
            "Epoch 8/50\n",
            "27/27 [==============================] - 0s 6ms/step - loss: 0.1974 - accuracy: 0.8026 - val_loss: 0.1759 - val_accuracy: 0.8241\n",
            "Epoch 9/50\n",
            "27/27 [==============================] - 0s 6ms/step - loss: 0.1974 - accuracy: 0.8026 - val_loss: 0.1759 - val_accuracy: 0.8241\n",
            "Epoch 10/50\n",
            "27/27 [==============================] - 0s 6ms/step - loss: 0.1974 - accuracy: 0.8026 - val_loss: 0.1759 - val_accuracy: 0.8241\n",
            "Epoch 11/50\n",
            "27/27 [==============================] - 0s 6ms/step - loss: 0.1974 - accuracy: 0.8026 - val_loss: 0.1759 - val_accuracy: 0.8241\n",
            "Epoch 12/50\n",
            "27/27 [==============================] - 0s 6ms/step - loss: 0.1974 - accuracy: 0.8026 - val_loss: 0.1759 - val_accuracy: 0.8241\n",
            "Epoch 13/50\n",
            "27/27 [==============================] - 0s 6ms/step - loss: 0.1974 - accuracy: 0.8026 - val_loss: 0.1759 - val_accuracy: 0.8241\n",
            "Epoch 14/50\n",
            "27/27 [==============================] - 0s 6ms/step - loss: 0.1974 - accuracy: 0.8026 - val_loss: 0.1759 - val_accuracy: 0.8241\n",
            "Epoch 15/50\n",
            "27/27 [==============================] - 0s 6ms/step - loss: 0.1974 - accuracy: 0.8026 - val_loss: 0.1759 - val_accuracy: 0.8241\n",
            "Epoch 16/50\n",
            "27/27 [==============================] - 0s 6ms/step - loss: 0.1974 - accuracy: 0.8026 - val_loss: 0.1759 - val_accuracy: 0.8241\n",
            "Epoch 17/50\n",
            "27/27 [==============================] - 0s 6ms/step - loss: 0.1974 - accuracy: 0.8026 - val_loss: 0.1759 - val_accuracy: 0.8241\n",
            "Epoch 18/50\n",
            "27/27 [==============================] - 0s 5ms/step - loss: 0.1974 - accuracy: 0.8026 - val_loss: 0.1759 - val_accuracy: 0.8241\n",
            "Epoch 19/50\n",
            "27/27 [==============================] - 0s 5ms/step - loss: 0.1974 - accuracy: 0.8026 - val_loss: 0.1759 - val_accuracy: 0.8241\n",
            "Epoch 20/50\n",
            "27/27 [==============================] - 0s 5ms/step - loss: 0.1974 - accuracy: 0.8026 - val_loss: 0.1759 - val_accuracy: 0.8241\n",
            "Epoch 21/50\n",
            "27/27 [==============================] - 0s 6ms/step - loss: 0.1974 - accuracy: 0.8026 - val_loss: 0.1759 - val_accuracy: 0.8241\n",
            "Epoch 22/50\n",
            "27/27 [==============================] - 0s 5ms/step - loss: 0.1974 - accuracy: 0.8026 - val_loss: 0.1759 - val_accuracy: 0.8241\n",
            "Epoch 23/50\n",
            "27/27 [==============================] - 0s 6ms/step - loss: 0.1974 - accuracy: 0.8026 - val_loss: 0.1759 - val_accuracy: 0.8241\n",
            "Epoch 24/50\n",
            "27/27 [==============================] - 0s 6ms/step - loss: 0.1974 - accuracy: 0.8026 - val_loss: 0.1759 - val_accuracy: 0.8241\n",
            "Epoch 25/50\n",
            "27/27 [==============================] - 0s 7ms/step - loss: 0.1974 - accuracy: 0.8026 - val_loss: 0.1759 - val_accuracy: 0.8241\n",
            "Epoch 26/50\n",
            "27/27 [==============================] - 0s 6ms/step - loss: 0.1974 - accuracy: 0.8026 - val_loss: 0.1759 - val_accuracy: 0.8241\n",
            "Epoch 27/50\n",
            "27/27 [==============================] - 0s 6ms/step - loss: 0.1974 - accuracy: 0.8026 - val_loss: 0.1759 - val_accuracy: 0.8241\n",
            "Epoch 28/50\n",
            "27/27 [==============================] - 0s 6ms/step - loss: 0.1974 - accuracy: 0.8026 - val_loss: 0.1759 - val_accuracy: 0.8241\n",
            "Epoch 29/50\n",
            "27/27 [==============================] - 0s 6ms/step - loss: 0.1974 - accuracy: 0.8026 - val_loss: 0.1759 - val_accuracy: 0.8241\n",
            "Epoch 30/50\n",
            "27/27 [==============================] - 0s 6ms/step - loss: 0.1974 - accuracy: 0.8026 - val_loss: 0.1759 - val_accuracy: 0.8241\n",
            "Epoch 31/50\n",
            "27/27 [==============================] - 0s 6ms/step - loss: 0.1974 - accuracy: 0.8026 - val_loss: 0.1759 - val_accuracy: 0.8241\n",
            "Epoch 32/50\n",
            "27/27 [==============================] - 0s 5ms/step - loss: 0.1974 - accuracy: 0.8026 - val_loss: 0.1759 - val_accuracy: 0.8241\n",
            "Epoch 33/50\n",
            "27/27 [==============================] - 0s 6ms/step - loss: 0.1974 - accuracy: 0.8026 - val_loss: 0.1759 - val_accuracy: 0.8241\n",
            "Epoch 34/50\n",
            "27/27 [==============================] - 0s 5ms/step - loss: 0.1974 - accuracy: 0.8026 - val_loss: 0.1759 - val_accuracy: 0.8241\n",
            "Epoch 35/50\n",
            "27/27 [==============================] - 0s 7ms/step - loss: 0.1974 - accuracy: 0.8026 - val_loss: 0.1759 - val_accuracy: 0.8241\n",
            "Epoch 36/50\n",
            "27/27 [==============================] - 0s 6ms/step - loss: 0.1974 - accuracy: 0.8026 - val_loss: 0.1759 - val_accuracy: 0.8241\n",
            "Epoch 37/50\n",
            "27/27 [==============================] - 0s 6ms/step - loss: 0.1974 - accuracy: 0.8026 - val_loss: 0.1759 - val_accuracy: 0.8241\n",
            "Epoch 38/50\n",
            "27/27 [==============================] - 0s 5ms/step - loss: 0.1974 - accuracy: 0.8026 - val_loss: 0.1759 - val_accuracy: 0.8241\n",
            "Epoch 39/50\n",
            "27/27 [==============================] - 0s 6ms/step - loss: 0.1974 - accuracy: 0.8026 - val_loss: 0.1759 - val_accuracy: 0.8241\n",
            "Epoch 40/50\n",
            "27/27 [==============================] - 0s 5ms/step - loss: 0.1974 - accuracy: 0.8026 - val_loss: 0.1759 - val_accuracy: 0.8241\n",
            "Epoch 41/50\n",
            "27/27 [==============================] - 0s 5ms/step - loss: 0.1974 - accuracy: 0.8026 - val_loss: 0.1759 - val_accuracy: 0.8241\n",
            "Epoch 42/50\n",
            "27/27 [==============================] - 0s 6ms/step - loss: 0.1974 - accuracy: 0.8026 - val_loss: 0.1759 - val_accuracy: 0.8241\n",
            "Epoch 43/50\n",
            "27/27 [==============================] - 0s 6ms/step - loss: 0.1974 - accuracy: 0.8026 - val_loss: 0.1759 - val_accuracy: 0.8241\n",
            "Epoch 44/50\n",
            "27/27 [==============================] - 0s 6ms/step - loss: 0.1974 - accuracy: 0.8026 - val_loss: 0.1759 - val_accuracy: 0.8241\n",
            "Epoch 45/50\n",
            "27/27 [==============================] - 0s 6ms/step - loss: 0.1974 - accuracy: 0.8026 - val_loss: 0.1759 - val_accuracy: 0.8241\n",
            "Epoch 46/50\n",
            "27/27 [==============================] - 0s 6ms/step - loss: 0.1974 - accuracy: 0.8026 - val_loss: 0.1759 - val_accuracy: 0.8241\n",
            "Epoch 47/50\n",
            "27/27 [==============================] - 0s 6ms/step - loss: 0.1974 - accuracy: 0.8026 - val_loss: 0.1759 - val_accuracy: 0.8241\n",
            "Epoch 48/50\n",
            "27/27 [==============================] - 0s 6ms/step - loss: 0.1974 - accuracy: 0.8026 - val_loss: 0.1759 - val_accuracy: 0.8241\n",
            "Epoch 49/50\n",
            "27/27 [==============================] - 0s 6ms/step - loss: 0.1974 - accuracy: 0.8026 - val_loss: 0.1759 - val_accuracy: 0.8241\n",
            "Epoch 50/50\n",
            "27/27 [==============================] - 0s 6ms/step - loss: 0.1974 - accuracy: 0.8026 - val_loss: 0.1759 - val_accuracy: 0.8241\n",
            "Best epoch: 1\n"
          ]
        }
      ]
    },
    {
      "cell_type": "code",
      "metadata": {
        "colab": {
          "base_uri": "https://localhost:8080/"
        },
        "id": "dm72zYc4HsL_",
        "outputId": "193f5327-6a9d-4711-b29e-c90647c3ad61"
      },
      "source": [
        "hypermodel = tuner.hypermodel.build(best_hps)\n",
        "\n",
        "# Retrain the model\n",
        "hypermodel.fit(X_train, Y_train, epochs=best_epoch, validation_split=0.2)"
      ],
      "execution_count": 62,
      "outputs": [
        {
          "output_type": "stream",
          "name": "stdout",
          "text": [
            "27/27 [==============================] - 1s 11ms/step - loss: 0.2022 - accuracy: 0.7979 - val_loss: 0.1759 - val_accuracy: 0.8241\n"
          ]
        },
        {
          "output_type": "execute_result",
          "data": {
            "text/plain": [
              "<keras.callbacks.History at 0x7fe5af851150>"
            ]
          },
          "metadata": {},
          "execution_count": 62
        }
      ]
    },
    {
      "cell_type": "code",
      "metadata": {
        "colab": {
          "base_uri": "https://localhost:8080/"
        },
        "id": "ULW8TYAAHsFW",
        "outputId": "cac268be-6502-4728-9922-362e5b29fb2a"
      },
      "source": [
        "eval_result = hypermodel.evaluate(X_test, Y_test)\n",
        "print(\"[test loss, test accuracy]:\", eval_result)"
      ],
      "execution_count": 63,
      "outputs": [
        {
          "output_type": "stream",
          "name": "stdout",
          "text": [
            "15/15 [==============================] - 0s 3ms/step - loss: 0.1926 - accuracy: 0.8074\n",
            "[test loss, test accuracy]: [0.19264069199562073, 0.8073592782020569]\n"
          ]
        }
      ]
    },
    {
      "cell_type": "code",
      "metadata": {
        "colab": {
          "base_uri": "https://localhost:8080/"
        },
        "id": "SBo1gDkTM9Qw",
        "outputId": "311bd2ef-c21d-4e88-c5ea-1178fc38207b"
      },
      "source": [
        "hypermodel.summary()"
      ],
      "execution_count": 64,
      "outputs": [
        {
          "output_type": "stream",
          "name": "stdout",
          "text": [
            "Model: \"sequential_2\"\n",
            "_________________________________________________________________\n",
            " Layer (type)                Output Shape              Param #   \n",
            "=================================================================\n",
            " dense_6 (Dense)             (None, 960)               18240     \n",
            "                                                                 \n",
            " dropout_4 (Dropout)         (None, 960)               0         \n",
            "                                                                 \n",
            " dense_7 (Dense)             (None, 128)               123008    \n",
            "                                                                 \n",
            " dropout_5 (Dropout)         (None, 128)               0         \n",
            "                                                                 \n",
            " dense_8 (Dense)             (None, 1)                 129       \n",
            "                                                                 \n",
            "=================================================================\n",
            "Total params: 141,377\n",
            "Trainable params: 141,377\n",
            "Non-trainable params: 0\n",
            "_________________________________________________________________\n"
          ]
        }
      ]
    },
    {
      "cell_type": "code",
      "metadata": {
        "id": "vDqaRNY6Oa0g"
      },
      "source": [
        " y_pred = hypermodel.predict(X_test)"
      ],
      "execution_count": 65,
      "outputs": []
    },
    {
      "cell_type": "code",
      "metadata": {
        "id": "eDXCNccqOlWo"
      },
      "source": [
        "y_pred = np.where(y_pred > 0.5, 1, 0)"
      ],
      "execution_count": 68,
      "outputs": []
    },
    {
      "cell_type": "code",
      "metadata": {
        "colab": {
          "base_uri": "https://localhost:8080/"
        },
        "id": "3GLksJW9Nf_n",
        "outputId": "487b82a9-2a3b-4288-bf9d-b6509ffdaaa7"
      },
      "source": [
        "from sklearn.metrics import precision_recall_fscore_support\n",
        "from sklearn.metrics import accuracy_score, precision_score, recall_score, f1_score, roc_auc_score, roc_curve, auc, precision_recall_curve\n",
        " #calc metrics\n",
        "actual = Y_test\n",
        "predicted = y_pred\n",
        "curr_macro_prec = precision_score(actual, predicted,average='weighted')\n",
        "curr_macro_rec = recall_score(actual, predicted,average='weighted')\n",
        "curr_macro_f1 = f1_score(actual, predicted,average='weighted')\n",
        "\n",
        "print('Weighted Precision',curr_macro_prec)\n",
        "print('Weighted Recall',curr_macro_rec)\n",
        "print('Weighted F1',curr_macro_f1)"
      ],
      "execution_count": 75,
      "outputs": [
        {
          "output_type": "stream",
          "name": "stdout",
          "text": [
            "Weighted Precision 0.6518290511797006\n",
            "Weighted Recall 0.8073593073593074\n",
            "Weighted F1 0.7213054410659201\n"
          ]
        },
        {
          "output_type": "stream",
          "name": "stderr",
          "text": [
            "/usr/local/lib/python3.7/dist-packages/sklearn/metrics/_classification.py:1308: UndefinedMetricWarning: Precision is ill-defined and being set to 0.0 in labels with no predicted samples. Use `zero_division` parameter to control this behavior.\n",
            "  _warn_prf(average, modifier, msg_start, len(result))\n"
          ]
        }
      ]
    },
    {
      "cell_type": "code",
      "metadata": {
        "id": "J9LCAH6UPOMw"
      },
      "source": [
        ""
      ],
      "execution_count": null,
      "outputs": []
    },
    {
      "cell_type": "markdown",
      "metadata": {
        "id": "wdeQEZt2QBbB"
      },
      "source": [
        "# SMOTE OVERSAMPLING"
      ]
    },
    {
      "cell_type": "code",
      "metadata": {
        "colab": {
          "base_uri": "https://localhost:8080/"
        },
        "id": "ZAga5mH4QDEH",
        "outputId": "2c3425d8-14a0-44c3-c65c-7cb2e8e63645"
      },
      "source": [
        "X_train = np.load('/content/X_train_smote.npy', allow_pickle= True)\n",
        "y_train = np.load('/content/Y_train_smote.npy', allow_pickle= True)\n",
        "\n",
        "#Remains same regardless of oversampling\n",
        "X_test = np.load('/content/X_test.npy', allow_pickle= True)\n",
        "y_test = np.load('/content/Y_test.npy', allow_pickle= True)\n",
        "\n",
        "\n",
        "print(len(X_train),len(y_train),len(X_test),len(y_test))\n",
        "\n",
        "Y_train= y_train\n",
        "Y_test = y_test\n",
        "print(Y_train.shape)"
      ],
      "execution_count": 76,
      "outputs": [
        {
          "output_type": "stream",
          "name": "stdout",
          "text": [
            "1738 1738 462 462\n",
            "(1738,)\n"
          ]
        }
      ]
    },
    {
      "cell_type": "code",
      "metadata": {
        "id": "DugPnNNLRhy7"
      },
      "source": [
        "tuner = kt.Hyperband(model_builder,\n",
        "                     objective='val_accuracy',\n",
        "                     max_epochs=50,\n",
        "                     factor=3,\n",
        "                     directory='my_dir',\n",
        "                     project_name='ann4DR_SMOTE')"
      ],
      "execution_count": 78,
      "outputs": []
    },
    {
      "cell_type": "code",
      "metadata": {
        "id": "2bskNR-6Rhy8"
      },
      "source": [
        "stop_early = tf.keras.callbacks.EarlyStopping(monitor='val_loss', patience=7)"
      ],
      "execution_count": 79,
      "outputs": []
    },
    {
      "cell_type": "code",
      "metadata": {
        "colab": {
          "base_uri": "https://localhost:8080/"
        },
        "id": "nMi7G3_nRhy8",
        "outputId": "196d46b9-fe56-4851-d7cd-72b1468f9094"
      },
      "source": [
        "tuner.search(X_train, Y_train, epochs=100, validation_split=0.2, callbacks=[stop_early])\n",
        "\n",
        "# Get the optimal hyperparameters\n",
        "best_hps=tuner.get_best_hyperparameters(num_trials=1)[0]\n",
        "\n",
        "print(f\"\"\"\n",
        "SMOTE The hyperparameter search is complete. The optimal number of units in the first densely-connected\n",
        "layer is {best_hps.get('units')}  and the second densely-connected layer is {best_hps.get('units_2')}and the optimal learning rate for the optimizer\n",
        "is {best_hps.get('learning_rate')}. Dropout 1 is {best_hps.get('dropout_1')} and Dropout 2 is {best_hps.get('dropout_2')}\n",
        "\"\"\")"
      ],
      "execution_count": 80,
      "outputs": [
        {
          "output_type": "stream",
          "name": "stdout",
          "text": [
            "Trial 90 Complete [00h 00m 09s]\n",
            "val_accuracy: 0.8879310488700867\n",
            "\n",
            "Best val_accuracy So Far: 0.8994252681732178\n",
            "Total elapsed time: 00h 05m 18s\n",
            "INFO:tensorflow:Oracle triggered exit\n"
          ]
        },
        {
          "output_type": "stream",
          "name": "stderr",
          "text": [
            "INFO:tensorflow:Oracle triggered exit\n"
          ]
        },
        {
          "output_type": "stream",
          "name": "stdout",
          "text": [
            "\n",
            "SMOTE The hyperparameter search is complete. The optimal number of units in the first densely-connected\n",
            "layer is 832  and the second densely-connected layer is 288and the optimal learning rate for the optimizer\n",
            "is 0.001. Dropout 1 is 0.05 and Dropout 2 is 0.0\n",
            "\n"
          ]
        }
      ]
    },
    {
      "cell_type": "code",
      "metadata": {
        "colab": {
          "base_uri": "https://localhost:8080/"
        },
        "id": "GvtUobf8Rhy-",
        "outputId": "50641753-7ffd-41e3-d62f-f0ea72ecf313"
      },
      "source": [
        "# Build the model with the optimal hyperparameters and train it on the data for 50 epochs\n",
        "model = tuner.hypermodel.build(best_hps)\n",
        "history = model.fit(X_train, Y_train, epochs=50, validation_split=0.2)\n",
        "\n",
        "val_acc_per_epoch = history.history['val_accuracy']\n",
        "best_epoch = val_acc_per_epoch.index(max(val_acc_per_epoch)) + 1\n",
        "print('Best epoch: %d' % (best_epoch,))"
      ],
      "execution_count": 81,
      "outputs": [
        {
          "output_type": "stream",
          "name": "stdout",
          "text": [
            "Epoch 1/50\n",
            "44/44 [==============================] - 1s 10ms/step - loss: 0.2242 - accuracy: 0.6309 - val_loss: 0.3169 - val_accuracy: 0.3822\n",
            "Epoch 2/50\n",
            "44/44 [==============================] - 0s 5ms/step - loss: 0.2077 - accuracy: 0.6813 - val_loss: 0.4616 - val_accuracy: 0.1868\n",
            "Epoch 3/50\n",
            "44/44 [==============================] - 0s 5ms/step - loss: 0.2044 - accuracy: 0.6863 - val_loss: 0.2663 - val_accuracy: 0.5144\n",
            "Epoch 4/50\n",
            "44/44 [==============================] - 0s 6ms/step - loss: 0.1928 - accuracy: 0.7094 - val_loss: 0.2132 - val_accuracy: 0.6264\n",
            "Epoch 5/50\n",
            "44/44 [==============================] - 0s 6ms/step - loss: 0.1840 - accuracy: 0.7288 - val_loss: 0.2436 - val_accuracy: 0.5460\n",
            "Epoch 6/50\n",
            "44/44 [==============================] - 0s 5ms/step - loss: 0.1815 - accuracy: 0.7324 - val_loss: 0.3700 - val_accuracy: 0.3621\n",
            "Epoch 7/50\n",
            "44/44 [==============================] - 0s 6ms/step - loss: 0.1816 - accuracy: 0.7345 - val_loss: 0.3211 - val_accuracy: 0.4052\n",
            "Epoch 8/50\n",
            "44/44 [==============================] - 0s 6ms/step - loss: 0.1695 - accuracy: 0.7525 - val_loss: 0.1984 - val_accuracy: 0.6753\n",
            "Epoch 9/50\n",
            "44/44 [==============================] - 0s 5ms/step - loss: 0.1663 - accuracy: 0.7683 - val_loss: 0.1540 - val_accuracy: 0.7931\n",
            "Epoch 10/50\n",
            "44/44 [==============================] - 0s 5ms/step - loss: 0.1634 - accuracy: 0.7568 - val_loss: 0.2731 - val_accuracy: 0.5287\n",
            "Epoch 11/50\n",
            "44/44 [==============================] - 0s 6ms/step - loss: 0.1565 - accuracy: 0.7734 - val_loss: 0.1548 - val_accuracy: 0.7874\n",
            "Epoch 12/50\n",
            "44/44 [==============================] - 0s 6ms/step - loss: 0.1542 - accuracy: 0.7791 - val_loss: 0.2168 - val_accuracy: 0.6753\n",
            "Epoch 13/50\n",
            "44/44 [==============================] - 0s 6ms/step - loss: 0.1447 - accuracy: 0.8014 - val_loss: 0.1967 - val_accuracy: 0.6897\n",
            "Epoch 14/50\n",
            "44/44 [==============================] - 0s 6ms/step - loss: 0.1449 - accuracy: 0.7892 - val_loss: 0.1847 - val_accuracy: 0.7299\n",
            "Epoch 15/50\n",
            "44/44 [==============================] - 0s 5ms/step - loss: 0.1355 - accuracy: 0.8216 - val_loss: 0.2270 - val_accuracy: 0.6437\n",
            "Epoch 16/50\n",
            "44/44 [==============================] - 0s 6ms/step - loss: 0.1327 - accuracy: 0.8050 - val_loss: 0.1910 - val_accuracy: 0.7443\n",
            "Epoch 17/50\n",
            "44/44 [==============================] - 0s 6ms/step - loss: 0.1319 - accuracy: 0.8151 - val_loss: 0.2494 - val_accuracy: 0.6121\n",
            "Epoch 18/50\n",
            "44/44 [==============================] - 0s 5ms/step - loss: 0.1290 - accuracy: 0.8281 - val_loss: 0.1308 - val_accuracy: 0.8218\n",
            "Epoch 19/50\n",
            "44/44 [==============================] - 0s 5ms/step - loss: 0.1216 - accuracy: 0.8295 - val_loss: 0.2193 - val_accuracy: 0.6983\n",
            "Epoch 20/50\n",
            "44/44 [==============================] - 0s 6ms/step - loss: 0.1174 - accuracy: 0.8403 - val_loss: 0.1173 - val_accuracy: 0.8391\n",
            "Epoch 21/50\n",
            "44/44 [==============================] - 0s 5ms/step - loss: 0.1176 - accuracy: 0.8453 - val_loss: 0.1860 - val_accuracy: 0.7500\n",
            "Epoch 22/50\n",
            "44/44 [==============================] - 0s 5ms/step - loss: 0.1154 - accuracy: 0.8317 - val_loss: 0.1249 - val_accuracy: 0.8420\n",
            "Epoch 23/50\n",
            "44/44 [==============================] - 0s 6ms/step - loss: 0.1078 - accuracy: 0.8590 - val_loss: 0.1025 - val_accuracy: 0.8678\n",
            "Epoch 24/50\n",
            "44/44 [==============================] - 0s 6ms/step - loss: 0.0993 - accuracy: 0.8734 - val_loss: 0.2117 - val_accuracy: 0.6925\n",
            "Epoch 25/50\n",
            "44/44 [==============================] - 0s 6ms/step - loss: 0.1006 - accuracy: 0.8662 - val_loss: 0.1201 - val_accuracy: 0.8362\n",
            "Epoch 26/50\n",
            "44/44 [==============================] - 0s 5ms/step - loss: 0.1036 - accuracy: 0.8532 - val_loss: 0.1600 - val_accuracy: 0.7989\n",
            "Epoch 27/50\n",
            "44/44 [==============================] - 0s 5ms/step - loss: 0.0995 - accuracy: 0.8669 - val_loss: 0.1433 - val_accuracy: 0.8218\n",
            "Epoch 28/50\n",
            "44/44 [==============================] - 0s 5ms/step - loss: 0.0910 - accuracy: 0.8842 - val_loss: 0.2238 - val_accuracy: 0.6695\n",
            "Epoch 29/50\n",
            "44/44 [==============================] - 0s 5ms/step - loss: 0.0900 - accuracy: 0.8835 - val_loss: 0.1837 - val_accuracy: 0.7500\n",
            "Epoch 30/50\n",
            "44/44 [==============================] - 0s 5ms/step - loss: 0.0821 - accuracy: 0.8942 - val_loss: 0.0922 - val_accuracy: 0.8851\n",
            "Epoch 31/50\n",
            "44/44 [==============================] - 0s 6ms/step - loss: 0.0812 - accuracy: 0.8986 - val_loss: 0.2262 - val_accuracy: 0.6552\n",
            "Epoch 32/50\n",
            "44/44 [==============================] - 0s 5ms/step - loss: 0.0836 - accuracy: 0.8885 - val_loss: 0.1257 - val_accuracy: 0.8333\n",
            "Epoch 33/50\n",
            "44/44 [==============================] - 0s 5ms/step - loss: 0.0786 - accuracy: 0.9058 - val_loss: 0.0855 - val_accuracy: 0.8937\n",
            "Epoch 34/50\n",
            "44/44 [==============================] - 0s 6ms/step - loss: 0.0718 - accuracy: 0.9122 - val_loss: 0.0794 - val_accuracy: 0.9195\n",
            "Epoch 35/50\n",
            "44/44 [==============================] - 0s 5ms/step - loss: 0.0701 - accuracy: 0.9165 - val_loss: 0.1413 - val_accuracy: 0.8276\n",
            "Epoch 36/50\n",
            "44/44 [==============================] - 0s 6ms/step - loss: 0.0661 - accuracy: 0.9223 - val_loss: 0.1024 - val_accuracy: 0.8879\n",
            "Epoch 37/50\n",
            "44/44 [==============================] - 0s 5ms/step - loss: 0.0649 - accuracy: 0.9252 - val_loss: 0.1318 - val_accuracy: 0.8420\n",
            "Epoch 38/50\n",
            "44/44 [==============================] - 0s 6ms/step - loss: 0.0686 - accuracy: 0.9144 - val_loss: 0.0602 - val_accuracy: 0.9282\n",
            "Epoch 39/50\n",
            "44/44 [==============================] - 0s 6ms/step - loss: 0.0662 - accuracy: 0.9230 - val_loss: 0.0533 - val_accuracy: 0.9483\n",
            "Epoch 40/50\n",
            "44/44 [==============================] - 0s 5ms/step - loss: 0.0578 - accuracy: 0.9324 - val_loss: 0.1188 - val_accuracy: 0.8563\n",
            "Epoch 41/50\n",
            "44/44 [==============================] - 0s 6ms/step - loss: 0.0692 - accuracy: 0.9043 - val_loss: 0.1303 - val_accuracy: 0.7989\n",
            "Epoch 42/50\n",
            "44/44 [==============================] - 0s 6ms/step - loss: 0.0574 - accuracy: 0.9338 - val_loss: 0.0951 - val_accuracy: 0.8994\n",
            "Epoch 43/50\n",
            "44/44 [==============================] - 0s 6ms/step - loss: 0.0580 - accuracy: 0.9252 - val_loss: 0.0801 - val_accuracy: 0.9023\n",
            "Epoch 44/50\n",
            "44/44 [==============================] - 0s 5ms/step - loss: 0.0597 - accuracy: 0.9230 - val_loss: 0.1342 - val_accuracy: 0.8333\n",
            "Epoch 45/50\n",
            "44/44 [==============================] - 0s 5ms/step - loss: 0.0540 - accuracy: 0.9345 - val_loss: 0.0928 - val_accuracy: 0.8994\n",
            "Epoch 46/50\n",
            "44/44 [==============================] - 0s 5ms/step - loss: 0.0526 - accuracy: 0.9417 - val_loss: 0.0657 - val_accuracy: 0.9310\n",
            "Epoch 47/50\n",
            "44/44 [==============================] - 0s 6ms/step - loss: 0.0480 - accuracy: 0.9460 - val_loss: 0.0932 - val_accuracy: 0.8879\n",
            "Epoch 48/50\n",
            "44/44 [==============================] - 0s 5ms/step - loss: 0.0445 - accuracy: 0.9532 - val_loss: 0.0620 - val_accuracy: 0.9224\n",
            "Epoch 49/50\n",
            "44/44 [==============================] - 0s 6ms/step - loss: 0.0471 - accuracy: 0.9424 - val_loss: 0.1866 - val_accuracy: 0.7414\n",
            "Epoch 50/50\n",
            "44/44 [==============================] - 0s 6ms/step - loss: 0.0525 - accuracy: 0.9403 - val_loss: 0.0788 - val_accuracy: 0.9195\n",
            "Best epoch: 39\n"
          ]
        }
      ]
    },
    {
      "cell_type": "code",
      "metadata": {
        "colab": {
          "base_uri": "https://localhost:8080/"
        },
        "id": "kx4rE0sdRhy-",
        "outputId": "d8602032-79c5-4e48-a695-bc04fd56d71c"
      },
      "source": [
        "hypermodel = tuner.hypermodel.build(best_hps)\n",
        "\n",
        "# Retrain the model\n",
        "hypermodel.fit(X_train, Y_train, epochs=best_epoch, validation_split=0.2)"
      ],
      "execution_count": 82,
      "outputs": [
        {
          "output_type": "stream",
          "name": "stdout",
          "text": [
            "Epoch 1/39\n",
            "44/44 [==============================] - 1s 9ms/step - loss: 0.2202 - accuracy: 0.6432 - val_loss: 0.3955 - val_accuracy: 0.2385\n",
            "Epoch 2/39\n",
            "44/44 [==============================] - 0s 6ms/step - loss: 0.2055 - accuracy: 0.6928 - val_loss: 0.3012 - val_accuracy: 0.4052\n",
            "Epoch 3/39\n",
            "44/44 [==============================] - 0s 5ms/step - loss: 0.1972 - accuracy: 0.7043 - val_loss: 0.2772 - val_accuracy: 0.4770\n",
            "Epoch 4/39\n",
            "44/44 [==============================] - 0s 5ms/step - loss: 0.1897 - accuracy: 0.7151 - val_loss: 0.3277 - val_accuracy: 0.3621\n",
            "Epoch 5/39\n",
            "44/44 [==============================] - 0s 5ms/step - loss: 0.1915 - accuracy: 0.7094 - val_loss: 0.3431 - val_accuracy: 0.3333\n",
            "Epoch 6/39\n",
            "44/44 [==============================] - 0s 6ms/step - loss: 0.1808 - accuracy: 0.7331 - val_loss: 0.2096 - val_accuracy: 0.6609\n",
            "Epoch 7/39\n",
            "44/44 [==============================] - 0s 6ms/step - loss: 0.1735 - accuracy: 0.7468 - val_loss: 0.1738 - val_accuracy: 0.7960\n",
            "Epoch 8/39\n",
            "44/44 [==============================] - 0s 6ms/step - loss: 0.1727 - accuracy: 0.7446 - val_loss: 0.3072 - val_accuracy: 0.4368\n",
            "Epoch 9/39\n",
            "44/44 [==============================] - 0s 5ms/step - loss: 0.1658 - accuracy: 0.7619 - val_loss: 0.2026 - val_accuracy: 0.6810\n",
            "Epoch 10/39\n",
            "44/44 [==============================] - 0s 7ms/step - loss: 0.1603 - accuracy: 0.7734 - val_loss: 0.2056 - val_accuracy: 0.6695\n",
            "Epoch 11/39\n",
            "44/44 [==============================] - 0s 6ms/step - loss: 0.1584 - accuracy: 0.7813 - val_loss: 0.2995 - val_accuracy: 0.4856\n",
            "Epoch 12/39\n",
            "44/44 [==============================] - 0s 6ms/step - loss: 0.1493 - accuracy: 0.7871 - val_loss: 0.1764 - val_accuracy: 0.7299\n",
            "Epoch 13/39\n",
            "44/44 [==============================] - 0s 6ms/step - loss: 0.1450 - accuracy: 0.7950 - val_loss: 0.1710 - val_accuracy: 0.7471\n",
            "Epoch 14/39\n",
            "44/44 [==============================] - 0s 5ms/step - loss: 0.1413 - accuracy: 0.8050 - val_loss: 0.1910 - val_accuracy: 0.7126\n",
            "Epoch 15/39\n",
            "44/44 [==============================] - 0s 5ms/step - loss: 0.1470 - accuracy: 0.7899 - val_loss: 0.2102 - val_accuracy: 0.7126\n",
            "Epoch 16/39\n",
            "44/44 [==============================] - 0s 5ms/step - loss: 0.1305 - accuracy: 0.8223 - val_loss: 0.1893 - val_accuracy: 0.7557\n",
            "Epoch 17/39\n",
            "44/44 [==============================] - 0s 5ms/step - loss: 0.1269 - accuracy: 0.8237 - val_loss: 0.2236 - val_accuracy: 0.6724\n",
            "Epoch 18/39\n",
            "44/44 [==============================] - 0s 5ms/step - loss: 0.1276 - accuracy: 0.8173 - val_loss: 0.1446 - val_accuracy: 0.8218\n",
            "Epoch 19/39\n",
            "44/44 [==============================] - 0s 6ms/step - loss: 0.1246 - accuracy: 0.8273 - val_loss: 0.2022 - val_accuracy: 0.7385\n",
            "Epoch 20/39\n",
            "44/44 [==============================] - 0s 6ms/step - loss: 0.1194 - accuracy: 0.8403 - val_loss: 0.2122 - val_accuracy: 0.7184\n",
            "Epoch 21/39\n",
            "44/44 [==============================] - 0s 6ms/step - loss: 0.1152 - accuracy: 0.8396 - val_loss: 0.1864 - val_accuracy: 0.7414\n",
            "Epoch 22/39\n",
            "44/44 [==============================] - 0s 5ms/step - loss: 0.1072 - accuracy: 0.8626 - val_loss: 0.1495 - val_accuracy: 0.8075\n",
            "Epoch 23/39\n",
            "44/44 [==============================] - 0s 7ms/step - loss: 0.1072 - accuracy: 0.8511 - val_loss: 0.1612 - val_accuracy: 0.7874\n",
            "Epoch 24/39\n",
            "44/44 [==============================] - 0s 6ms/step - loss: 0.0999 - accuracy: 0.8734 - val_loss: 0.1354 - val_accuracy: 0.8448\n",
            "Epoch 25/39\n",
            "44/44 [==============================] - 0s 6ms/step - loss: 0.1001 - accuracy: 0.8705 - val_loss: 0.1402 - val_accuracy: 0.8247\n",
            "Epoch 26/39\n",
            "44/44 [==============================] - 0s 5ms/step - loss: 0.0975 - accuracy: 0.8748 - val_loss: 0.1464 - val_accuracy: 0.8247\n",
            "Epoch 27/39\n",
            "44/44 [==============================] - 0s 5ms/step - loss: 0.0984 - accuracy: 0.8734 - val_loss: 0.1106 - val_accuracy: 0.8563\n",
            "Epoch 28/39\n",
            "44/44 [==============================] - 0s 5ms/step - loss: 0.0899 - accuracy: 0.8849 - val_loss: 0.1597 - val_accuracy: 0.7874\n",
            "Epoch 29/39\n",
            "44/44 [==============================] - 0s 5ms/step - loss: 0.0863 - accuracy: 0.8871 - val_loss: 0.1099 - val_accuracy: 0.8879\n",
            "Epoch 30/39\n",
            "44/44 [==============================] - 0s 5ms/step - loss: 0.0864 - accuracy: 0.8906 - val_loss: 0.0840 - val_accuracy: 0.9109\n",
            "Epoch 31/39\n",
            "44/44 [==============================] - 0s 6ms/step - loss: 0.0813 - accuracy: 0.9007 - val_loss: 0.0834 - val_accuracy: 0.8937\n",
            "Epoch 32/39\n",
            "44/44 [==============================] - 0s 5ms/step - loss: 0.0860 - accuracy: 0.8871 - val_loss: 0.0624 - val_accuracy: 0.9368\n",
            "Epoch 33/39\n",
            "44/44 [==============================] - 0s 5ms/step - loss: 0.0750 - accuracy: 0.9101 - val_loss: 0.1210 - val_accuracy: 0.8621\n",
            "Epoch 34/39\n",
            "44/44 [==============================] - 0s 6ms/step - loss: 0.0754 - accuracy: 0.9079 - val_loss: 0.1288 - val_accuracy: 0.8621\n",
            "Epoch 35/39\n",
            "44/44 [==============================] - 0s 6ms/step - loss: 0.0720 - accuracy: 0.9122 - val_loss: 0.0830 - val_accuracy: 0.9109\n",
            "Epoch 36/39\n",
            "44/44 [==============================] - 0s 5ms/step - loss: 0.0658 - accuracy: 0.9180 - val_loss: 0.1101 - val_accuracy: 0.8707\n",
            "Epoch 37/39\n",
            "44/44 [==============================] - 0s 6ms/step - loss: 0.0699 - accuracy: 0.9122 - val_loss: 0.0807 - val_accuracy: 0.9080\n",
            "Epoch 38/39\n",
            "44/44 [==============================] - 0s 5ms/step - loss: 0.0693 - accuracy: 0.9173 - val_loss: 0.0805 - val_accuracy: 0.9052\n",
            "Epoch 39/39\n",
            "44/44 [==============================] - 0s 6ms/step - loss: 0.0687 - accuracy: 0.9115 - val_loss: 0.0902 - val_accuracy: 0.9023\n"
          ]
        },
        {
          "output_type": "execute_result",
          "data": {
            "text/plain": [
              "<keras.callbacks.History at 0x7fe5af71e9d0>"
            ]
          },
          "metadata": {},
          "execution_count": 82
        }
      ]
    },
    {
      "cell_type": "code",
      "metadata": {
        "colab": {
          "base_uri": "https://localhost:8080/"
        },
        "id": "zq1P2DdIRhy_",
        "outputId": "b0b57244-bc5c-458a-859c-0f4e595c940c"
      },
      "source": [
        "eval_result = hypermodel.evaluate(X_test, Y_test)\n",
        "print(\"[test loss, test accuracy]:\", eval_result)"
      ],
      "execution_count": 83,
      "outputs": [
        {
          "output_type": "stream",
          "name": "stdout",
          "text": [
            "15/15 [==============================] - 0s 3ms/step - loss: 0.2319 - accuracy: 0.7013\n",
            "[test loss, test accuracy]: [0.23186522722244263, 0.701298713684082]\n"
          ]
        }
      ]
    },
    {
      "cell_type": "code",
      "metadata": {
        "colab": {
          "base_uri": "https://localhost:8080/"
        },
        "id": "Nr0vRkyLRhzA",
        "outputId": "7278f94f-1132-4023-d7f5-f6bb54ebfc73"
      },
      "source": [
        "hypermodel.summary()"
      ],
      "execution_count": 84,
      "outputs": [
        {
          "output_type": "stream",
          "name": "stdout",
          "text": [
            "Model: \"sequential_2\"\n",
            "_________________________________________________________________\n",
            " Layer (type)                Output Shape              Param #   \n",
            "=================================================================\n",
            " dense_6 (Dense)             (None, 832)               15808     \n",
            "                                                                 \n",
            " dropout_4 (Dropout)         (None, 832)               0         \n",
            "                                                                 \n",
            " dense_7 (Dense)             (None, 288)               239904    \n",
            "                                                                 \n",
            " dropout_5 (Dropout)         (None, 288)               0         \n",
            "                                                                 \n",
            " dense_8 (Dense)             (None, 1)                 289       \n",
            "                                                                 \n",
            "=================================================================\n",
            "Total params: 256,001\n",
            "Trainable params: 256,001\n",
            "Non-trainable params: 0\n",
            "_________________________________________________________________\n"
          ]
        }
      ]
    },
    {
      "cell_type": "code",
      "metadata": {
        "id": "QHkJByuYRhzB"
      },
      "source": [
        " y_pred = hypermodel.predict(X_test)"
      ],
      "execution_count": 85,
      "outputs": []
    },
    {
      "cell_type": "code",
      "metadata": {
        "id": "4odRIA7FRhzD"
      },
      "source": [
        "y_pred = np.where(y_pred > 0.5, 1, 0)"
      ],
      "execution_count": 86,
      "outputs": []
    },
    {
      "cell_type": "code",
      "metadata": {
        "colab": {
          "base_uri": "https://localhost:8080/"
        },
        "id": "nFvRHW36RhzE",
        "outputId": "495d8427-7772-46a4-d050-5c1fee3d6213"
      },
      "source": [
        "from sklearn.metrics import precision_recall_fscore_support\n",
        "from sklearn.metrics import accuracy_score, precision_score, recall_score, f1_score, roc_auc_score, roc_curve, auc, precision_recall_curve\n",
        " #calc metrics\n",
        "actual = Y_test\n",
        "predicted = y_pred\n",
        "curr_macro_prec = precision_score(actual, predicted,average='weighted')\n",
        "curr_macro_rec = recall_score(actual, predicted,average='weighted')\n",
        "curr_macro_f1 = f1_score(actual, predicted,average='weighted')\n",
        "\n",
        "print('Weighted Precision',curr_macro_prec)\n",
        "print('Weighted Recall',curr_macro_rec)\n",
        "print('Weighted F1',curr_macro_f1)"
      ],
      "execution_count": 87,
      "outputs": [
        {
          "output_type": "stream",
          "name": "stdout",
          "text": [
            "Weighted Precision 0.7012987012987013\n",
            "Weighted Recall 0.7012987012987013\n",
            "Weighted F1 0.7012987012987013\n"
          ]
        }
      ]
    },
    {
      "cell_type": "code",
      "metadata": {
        "id": "JLKY1fQhUFhZ"
      },
      "source": [
        ""
      ],
      "execution_count": null,
      "outputs": []
    },
    {
      "cell_type": "markdown",
      "metadata": {
        "id": "vCunedorUGEo"
      },
      "source": [
        "# Borderline SMOTE"
      ]
    },
    {
      "cell_type": "code",
      "metadata": {
        "colab": {
          "base_uri": "https://localhost:8080/"
        },
        "id": "Y2BOe2oUUOr0",
        "outputId": "ac786bec-892a-42f0-9286-4d7fa8b006e9"
      },
      "source": [
        "X_train = np.load('/content/X_train_borderline_smote.npy', allow_pickle= True)\n",
        "y_train = np.load('/content/Y_train_borderline_smote.npy', allow_pickle= True)\n",
        "\n",
        "#Remains same regardless of oversampling\n",
        "X_test = np.load('/content/X_test.npy', allow_pickle= True)\n",
        "y_test = np.load('/content/Y_test.npy', allow_pickle= True)\n",
        "\n",
        "\n",
        "print(len(X_train),len(y_train),len(X_test),len(y_test))\n",
        "\n",
        "Y_train= y_train\n",
        "Y_test = y_test\n",
        "print(Y_train.shape)"
      ],
      "execution_count": 88,
      "outputs": [
        {
          "output_type": "stream",
          "name": "stdout",
          "text": [
            "1738 1738 462 462\n",
            "(1738,)\n"
          ]
        }
      ]
    },
    {
      "cell_type": "code",
      "metadata": {
        "id": "oIiIihKeUOr2"
      },
      "source": [
        "tuner = kt.Hyperband(model_builder,\n",
        "                     objective='val_accuracy',\n",
        "                     max_epochs=50,\n",
        "                     factor=3,\n",
        "                     directory='my_dir',\n",
        "                     project_name='ann4DR_BL_SMOTE')"
      ],
      "execution_count": 89,
      "outputs": []
    },
    {
      "cell_type": "code",
      "metadata": {
        "id": "yp93IttKUOr3"
      },
      "source": [
        "stop_early = tf.keras.callbacks.EarlyStopping(monitor='val_loss', patience=7)"
      ],
      "execution_count": 90,
      "outputs": []
    },
    {
      "cell_type": "code",
      "metadata": {
        "colab": {
          "base_uri": "https://localhost:8080/"
        },
        "id": "lkP26Li-UOr3",
        "outputId": "ff328041-3992-47d3-99e8-86ecd12aaed5"
      },
      "source": [
        "tuner.search(X_train, Y_train, epochs=100, validation_split=0.2, callbacks=[stop_early])\n",
        "\n",
        "# Get the optimal hyperparameters\n",
        "best_hps=tuner.get_best_hyperparameters(num_trials=1)[0]\n",
        "\n",
        "print(f\"\"\"\n",
        "SMOTE The hyperparameter search is complete. The optimal number of units in the first densely-connected\n",
        "layer is {best_hps.get('units')}  and the second densely-connected layer is {best_hps.get('units_2')}and the optimal learning rate for the optimizer\n",
        "is {best_hps.get('learning_rate')}. Dropout 1 is {best_hps.get('dropout_1')} and Dropout 2 is {best_hps.get('dropout_2')}\n",
        "\"\"\")"
      ],
      "execution_count": 91,
      "outputs": [
        {
          "output_type": "stream",
          "name": "stdout",
          "text": [
            "Trial 90 Complete [00h 00m 15s]\n",
            "val_accuracy: 0.931034505367279\n",
            "\n",
            "Best val_accuracy So Far: 1.0\n",
            "Total elapsed time: 00h 05m 03s\n",
            "INFO:tensorflow:Oracle triggered exit\n"
          ]
        },
        {
          "output_type": "stream",
          "name": "stderr",
          "text": [
            "INFO:tensorflow:Oracle triggered exit\n"
          ]
        },
        {
          "output_type": "stream",
          "name": "stdout",
          "text": [
            "\n",
            "SMOTE The hyperparameter search is complete. The optimal number of units in the first densely-connected\n",
            "layer is 960  and the second densely-connected layer is 448and the optimal learning rate for the optimizer\n",
            "is 0.01. Dropout 1 is 0.0 and Dropout 2 is 0.15000000000000002\n",
            "\n"
          ]
        }
      ]
    },
    {
      "cell_type": "code",
      "metadata": {
        "colab": {
          "base_uri": "https://localhost:8080/"
        },
        "id": "SJ9GOpheUOr4",
        "outputId": "367b5710-5c5c-48e2-dc2d-ab213d5f88de"
      },
      "source": [
        "# Build the model with the optimal hyperparameters and train it on the data for 50 epochs\n",
        "model = tuner.hypermodel.build(best_hps)\n",
        "history = model.fit(X_train, Y_train, epochs=50, validation_split=0.2)\n",
        "\n",
        "val_acc_per_epoch = history.history['val_accuracy']\n",
        "best_epoch = val_acc_per_epoch.index(max(val_acc_per_epoch)) + 1\n",
        "print('Best epoch: %d' % (best_epoch,))"
      ],
      "execution_count": 92,
      "outputs": [
        {
          "output_type": "stream",
          "name": "stdout",
          "text": [
            "Epoch 1/50\n",
            "44/44 [==============================] - 1s 10ms/step - loss: 0.3742 - accuracy: 0.6252 - val_loss: 1.0000 - val_accuracy: 0.0000e+00\n",
            "Epoch 2/50\n",
            "44/44 [==============================] - 0s 6ms/step - loss: 0.3748 - accuracy: 0.6252 - val_loss: 1.0000 - val_accuracy: 0.0000e+00\n",
            "Epoch 3/50\n",
            "44/44 [==============================] - 0s 5ms/step - loss: 0.3748 - accuracy: 0.6252 - val_loss: 1.0000 - val_accuracy: 0.0000e+00\n",
            "Epoch 4/50\n",
            "44/44 [==============================] - 0s 5ms/step - loss: 0.3748 - accuracy: 0.6252 - val_loss: 1.0000 - val_accuracy: 0.0000e+00\n",
            "Epoch 5/50\n",
            "44/44 [==============================] - 0s 6ms/step - loss: 0.3748 - accuracy: 0.6252 - val_loss: 1.0000 - val_accuracy: 0.0000e+00\n",
            "Epoch 6/50\n",
            "44/44 [==============================] - 0s 5ms/step - loss: 0.3748 - accuracy: 0.6252 - val_loss: 1.0000 - val_accuracy: 0.0000e+00\n",
            "Epoch 7/50\n",
            "44/44 [==============================] - 0s 6ms/step - loss: 0.3748 - accuracy: 0.6252 - val_loss: 1.0000 - val_accuracy: 0.0000e+00\n",
            "Epoch 8/50\n",
            "44/44 [==============================] - 0s 7ms/step - loss: 0.3748 - accuracy: 0.6252 - val_loss: 1.0000 - val_accuracy: 0.0000e+00\n",
            "Epoch 9/50\n",
            "44/44 [==============================] - 0s 6ms/step - loss: 0.3748 - accuracy: 0.6252 - val_loss: 1.0000 - val_accuracy: 0.0000e+00\n",
            "Epoch 10/50\n",
            "44/44 [==============================] - 0s 5ms/step - loss: 0.3748 - accuracy: 0.6252 - val_loss: 1.0000 - val_accuracy: 0.0000e+00\n",
            "Epoch 11/50\n",
            "44/44 [==============================] - 0s 6ms/step - loss: 0.3748 - accuracy: 0.6252 - val_loss: 1.0000 - val_accuracy: 0.0000e+00\n",
            "Epoch 12/50\n",
            "44/44 [==============================] - 0s 5ms/step - loss: 0.3748 - accuracy: 0.6252 - val_loss: 1.0000 - val_accuracy: 0.0000e+00\n",
            "Epoch 13/50\n",
            "44/44 [==============================] - 0s 6ms/step - loss: 0.3748 - accuracy: 0.6252 - val_loss: 1.0000 - val_accuracy: 0.0000e+00\n",
            "Epoch 14/50\n",
            "44/44 [==============================] - 0s 5ms/step - loss: 0.3748 - accuracy: 0.6252 - val_loss: 1.0000 - val_accuracy: 0.0000e+00\n",
            "Epoch 15/50\n",
            "44/44 [==============================] - 0s 6ms/step - loss: 0.3748 - accuracy: 0.6252 - val_loss: 1.0000 - val_accuracy: 0.0000e+00\n",
            "Epoch 16/50\n",
            "44/44 [==============================] - 0s 6ms/step - loss: 0.3748 - accuracy: 0.6252 - val_loss: 1.0000 - val_accuracy: 0.0000e+00\n",
            "Epoch 17/50\n",
            "44/44 [==============================] - 0s 5ms/step - loss: 0.3748 - accuracy: 0.6252 - val_loss: 1.0000 - val_accuracy: 0.0000e+00\n",
            "Epoch 18/50\n",
            "44/44 [==============================] - 0s 5ms/step - loss: 0.3748 - accuracy: 0.6252 - val_loss: 1.0000 - val_accuracy: 0.0000e+00\n",
            "Epoch 19/50\n",
            "44/44 [==============================] - 0s 5ms/step - loss: 0.3748 - accuracy: 0.6252 - val_loss: 1.0000 - val_accuracy: 0.0000e+00\n",
            "Epoch 20/50\n",
            "44/44 [==============================] - 0s 5ms/step - loss: 0.3748 - accuracy: 0.6252 - val_loss: 1.0000 - val_accuracy: 0.0000e+00\n",
            "Epoch 21/50\n",
            "44/44 [==============================] - 0s 5ms/step - loss: 0.3748 - accuracy: 0.6252 - val_loss: 1.0000 - val_accuracy: 0.0000e+00\n",
            "Epoch 22/50\n",
            "44/44 [==============================] - 0s 5ms/step - loss: 0.3748 - accuracy: 0.6252 - val_loss: 1.0000 - val_accuracy: 0.0000e+00\n",
            "Epoch 23/50\n",
            "44/44 [==============================] - 0s 6ms/step - loss: 0.3748 - accuracy: 0.6252 - val_loss: 1.0000 - val_accuracy: 0.0000e+00\n",
            "Epoch 24/50\n",
            "44/44 [==============================] - 0s 5ms/step - loss: 0.3748 - accuracy: 0.6252 - val_loss: 1.0000 - val_accuracy: 0.0000e+00\n",
            "Epoch 25/50\n",
            "44/44 [==============================] - 0s 6ms/step - loss: 0.3748 - accuracy: 0.6252 - val_loss: 1.0000 - val_accuracy: 0.0000e+00\n",
            "Epoch 26/50\n",
            "44/44 [==============================] - 0s 6ms/step - loss: 0.3748 - accuracy: 0.6252 - val_loss: 1.0000 - val_accuracy: 0.0000e+00\n",
            "Epoch 27/50\n",
            "44/44 [==============================] - 0s 6ms/step - loss: 0.3748 - accuracy: 0.6252 - val_loss: 1.0000 - val_accuracy: 0.0000e+00\n",
            "Epoch 28/50\n",
            "44/44 [==============================] - 0s 7ms/step - loss: 0.3748 - accuracy: 0.6252 - val_loss: 1.0000 - val_accuracy: 0.0000e+00\n",
            "Epoch 29/50\n",
            "44/44 [==============================] - 0s 6ms/step - loss: 0.3748 - accuracy: 0.6252 - val_loss: 1.0000 - val_accuracy: 0.0000e+00\n",
            "Epoch 30/50\n",
            "44/44 [==============================] - 0s 6ms/step - loss: 0.3748 - accuracy: 0.6252 - val_loss: 1.0000 - val_accuracy: 0.0000e+00\n",
            "Epoch 31/50\n",
            "44/44 [==============================] - 0s 5ms/step - loss: 0.3748 - accuracy: 0.6252 - val_loss: 1.0000 - val_accuracy: 0.0000e+00\n",
            "Epoch 32/50\n",
            "44/44 [==============================] - 0s 6ms/step - loss: 0.3748 - accuracy: 0.6252 - val_loss: 1.0000 - val_accuracy: 0.0000e+00\n",
            "Epoch 33/50\n",
            "44/44 [==============================] - 0s 6ms/step - loss: 0.3748 - accuracy: 0.6252 - val_loss: 1.0000 - val_accuracy: 0.0000e+00\n",
            "Epoch 34/50\n",
            "44/44 [==============================] - 0s 6ms/step - loss: 0.3748 - accuracy: 0.6252 - val_loss: 1.0000 - val_accuracy: 0.0000e+00\n",
            "Epoch 35/50\n",
            "44/44 [==============================] - 0s 6ms/step - loss: 0.3748 - accuracy: 0.6252 - val_loss: 1.0000 - val_accuracy: 0.0000e+00\n",
            "Epoch 36/50\n",
            "44/44 [==============================] - 0s 6ms/step - loss: 0.3748 - accuracy: 0.6252 - val_loss: 1.0000 - val_accuracy: 0.0000e+00\n",
            "Epoch 37/50\n",
            "44/44 [==============================] - 0s 5ms/step - loss: 0.3748 - accuracy: 0.6252 - val_loss: 1.0000 - val_accuracy: 0.0000e+00\n",
            "Epoch 38/50\n",
            "44/44 [==============================] - 0s 6ms/step - loss: 0.3748 - accuracy: 0.6252 - val_loss: 1.0000 - val_accuracy: 0.0000e+00\n",
            "Epoch 39/50\n",
            "44/44 [==============================] - 0s 5ms/step - loss: 0.3748 - accuracy: 0.6252 - val_loss: 1.0000 - val_accuracy: 0.0000e+00\n",
            "Epoch 40/50\n",
            "44/44 [==============================] - 0s 6ms/step - loss: 0.3748 - accuracy: 0.6252 - val_loss: 1.0000 - val_accuracy: 0.0000e+00\n",
            "Epoch 41/50\n",
            "44/44 [==============================] - 0s 6ms/step - loss: 0.3748 - accuracy: 0.6252 - val_loss: 1.0000 - val_accuracy: 0.0000e+00\n",
            "Epoch 42/50\n",
            "44/44 [==============================] - 0s 5ms/step - loss: 0.3748 - accuracy: 0.6252 - val_loss: 1.0000 - val_accuracy: 0.0000e+00\n",
            "Epoch 43/50\n",
            "44/44 [==============================] - 0s 6ms/step - loss: 0.3748 - accuracy: 0.6252 - val_loss: 1.0000 - val_accuracy: 0.0000e+00\n",
            "Epoch 44/50\n",
            "44/44 [==============================] - 0s 6ms/step - loss: 0.3748 - accuracy: 0.6252 - val_loss: 1.0000 - val_accuracy: 0.0000e+00\n",
            "Epoch 45/50\n",
            "44/44 [==============================] - 0s 6ms/step - loss: 0.3748 - accuracy: 0.6252 - val_loss: 1.0000 - val_accuracy: 0.0000e+00\n",
            "Epoch 46/50\n",
            "44/44 [==============================] - 0s 6ms/step - loss: 0.3748 - accuracy: 0.6252 - val_loss: 1.0000 - val_accuracy: 0.0000e+00\n",
            "Epoch 47/50\n",
            "44/44 [==============================] - 0s 6ms/step - loss: 0.3748 - accuracy: 0.6252 - val_loss: 1.0000 - val_accuracy: 0.0000e+00\n",
            "Epoch 48/50\n",
            "44/44 [==============================] - 0s 6ms/step - loss: 0.3748 - accuracy: 0.6252 - val_loss: 1.0000 - val_accuracy: 0.0000e+00\n",
            "Epoch 49/50\n",
            "44/44 [==============================] - 0s 6ms/step - loss: 0.3748 - accuracy: 0.6252 - val_loss: 1.0000 - val_accuracy: 0.0000e+00\n",
            "Epoch 50/50\n",
            "44/44 [==============================] - 0s 6ms/step - loss: 0.3748 - accuracy: 0.6252 - val_loss: 1.0000 - val_accuracy: 0.0000e+00\n",
            "Best epoch: 1\n"
          ]
        }
      ]
    },
    {
      "cell_type": "code",
      "metadata": {
        "colab": {
          "base_uri": "https://localhost:8080/"
        },
        "id": "1LxUNxNMUOr5",
        "outputId": "53af567d-c7af-455a-aaf1-674587a03c7d"
      },
      "source": [
        "hypermodel = tuner.hypermodel.build(best_hps)\n",
        "\n",
        "# Retrain the model\n",
        "hypermodel.fit(X_train, Y_train, epochs=best_epoch, validation_split=0.2)"
      ],
      "execution_count": 93,
      "outputs": [
        {
          "output_type": "stream",
          "name": "stdout",
          "text": [
            "44/44 [==============================] - 1s 10ms/step - loss: 0.2410 - accuracy: 0.6439 - val_loss: 0.2090 - val_accuracy: 0.6983\n"
          ]
        },
        {
          "output_type": "execute_result",
          "data": {
            "text/plain": [
              "<keras.callbacks.History at 0x7fe5af8cccd0>"
            ]
          },
          "metadata": {},
          "execution_count": 93
        }
      ]
    },
    {
      "cell_type": "code",
      "metadata": {
        "colab": {
          "base_uri": "https://localhost:8080/"
        },
        "id": "VzS8Dzq1UOr5",
        "outputId": "54c804fb-9a1d-4795-ec95-981aaacbcce3"
      },
      "source": [
        "eval_result = hypermodel.evaluate(X_test, Y_test)\n",
        "print(\"[test loss, test accuracy]:\", eval_result)"
      ],
      "execution_count": 94,
      "outputs": [
        {
          "output_type": "stream",
          "name": "stdout",
          "text": [
            "15/15 [==============================] - 0s 3ms/step - loss: 0.2372 - accuracy: 0.6126\n",
            "[test loss, test accuracy]: [0.23718969523906708, 0.612554132938385]\n"
          ]
        }
      ]
    },
    {
      "cell_type": "code",
      "metadata": {
        "colab": {
          "base_uri": "https://localhost:8080/"
        },
        "id": "vgrM2f6UUOr6",
        "outputId": "ded1d858-2ad0-45ed-aa33-11b7965b74cf"
      },
      "source": [
        "hypermodel.summary()"
      ],
      "execution_count": 95,
      "outputs": [
        {
          "output_type": "stream",
          "name": "stdout",
          "text": [
            "Model: \"sequential_2\"\n",
            "_________________________________________________________________\n",
            " Layer (type)                Output Shape              Param #   \n",
            "=================================================================\n",
            " dense_6 (Dense)             (None, 960)               18240     \n",
            "                                                                 \n",
            " dropout_4 (Dropout)         (None, 960)               0         \n",
            "                                                                 \n",
            " dense_7 (Dense)             (None, 448)               430528    \n",
            "                                                                 \n",
            " dropout_5 (Dropout)         (None, 448)               0         \n",
            "                                                                 \n",
            " dense_8 (Dense)             (None, 1)                 449       \n",
            "                                                                 \n",
            "=================================================================\n",
            "Total params: 449,217\n",
            "Trainable params: 449,217\n",
            "Non-trainable params: 0\n",
            "_________________________________________________________________\n"
          ]
        }
      ]
    },
    {
      "cell_type": "code",
      "metadata": {
        "id": "pCajvwuvUOr7"
      },
      "source": [
        " y_pred = hypermodel.predict(X_test)"
      ],
      "execution_count": 96,
      "outputs": []
    },
    {
      "cell_type": "code",
      "metadata": {
        "id": "3FC-V4LuUOr8"
      },
      "source": [
        "y_pred = np.where(y_pred > 0.5, 1, 0)"
      ],
      "execution_count": 97,
      "outputs": []
    },
    {
      "cell_type": "code",
      "metadata": {
        "colab": {
          "base_uri": "https://localhost:8080/"
        },
        "id": "rqENvj4lUOr8",
        "outputId": "8ce37e42-091c-4ae2-8da2-e65b5f35c401"
      },
      "source": [
        "from sklearn.metrics import precision_recall_fscore_support\n",
        "from sklearn.metrics import accuracy_score, precision_score, recall_score, f1_score, roc_auc_score, roc_curve, auc, precision_recall_curve\n",
        " #calc metrics\n",
        "actual = Y_test\n",
        "predicted = y_pred\n",
        "curr_macro_prec = precision_score(actual, predicted,average='weighted')\n",
        "curr_macro_rec = recall_score(actual, predicted,average='weighted')\n",
        "curr_macro_f1 = f1_score(actual, predicted,average='weighted')\n",
        "\n",
        "print('Weighted Precision',curr_macro_prec)\n",
        "print('Weighted Recall',curr_macro_rec)\n",
        "print('Weighted F1',curr_macro_f1)"
      ],
      "execution_count": 98,
      "outputs": [
        {
          "output_type": "stream",
          "name": "stdout",
          "text": [
            "Weighted Precision 0.7528614062704971\n",
            "Weighted Recall 0.6125541125541125\n",
            "Weighted F1 0.6529795076335644\n"
          ]
        }
      ]
    },
    {
      "cell_type": "markdown",
      "metadata": {
        "id": "Ng3elCb3V-A4"
      },
      "source": [
        "# ADASYN"
      ]
    },
    {
      "cell_type": "code",
      "metadata": {
        "colab": {
          "base_uri": "https://localhost:8080/"
        },
        "id": "SGeWDtIIWFME",
        "outputId": "c93d2660-ca56-4515-ff1c-9e1aa1658210"
      },
      "source": [
        "X_train = np.load('/content/X_train_adasyn.npy', allow_pickle= True)\n",
        "y_train = np.load('/content/Y_train_adasyn.npy', allow_pickle= True)\n",
        "\n",
        "#Remains same regardless of oversampling\n",
        "X_test = np.load('/content/X_test.npy', allow_pickle= True)\n",
        "y_test = np.load('/content/Y_test.npy', allow_pickle= True)\n",
        "\n",
        "\n",
        "print(len(X_train),len(y_train),len(X_test),len(y_test))\n",
        "\n",
        "Y_train= y_train\n",
        "Y_test = y_test\n",
        "print(Y_train.shape)"
      ],
      "execution_count": 99,
      "outputs": [
        {
          "output_type": "stream",
          "name": "stdout",
          "text": [
            "1686 1686 462 462\n",
            "(1686,)\n"
          ]
        }
      ]
    },
    {
      "cell_type": "code",
      "metadata": {
        "id": "6ignZb3dWFMG"
      },
      "source": [
        "tuner = kt.Hyperband(model_builder,\n",
        "                     objective='val_accuracy',\n",
        "                     max_epochs=50,\n",
        "                     factor=3,\n",
        "                     directory='my_dir',\n",
        "                     project_name='ann4DR_ADASYN')"
      ],
      "execution_count": 101,
      "outputs": []
    },
    {
      "cell_type": "code",
      "metadata": {
        "id": "9u7Amv6bWFMG"
      },
      "source": [
        "stop_early = tf.keras.callbacks.EarlyStopping(monitor='val_loss', patience=7)"
      ],
      "execution_count": 102,
      "outputs": []
    },
    {
      "cell_type": "code",
      "metadata": {
        "colab": {
          "base_uri": "https://localhost:8080/"
        },
        "id": "mm1B8Y9UWFMH",
        "outputId": "d2c0ae6c-0239-44f3-a007-2e7ad13b5eac"
      },
      "source": [
        "tuner.search(X_train, Y_train, epochs=100, validation_split=0.2, callbacks=[stop_early])\n",
        "\n",
        "# Get the optimal hyperparameters\n",
        "best_hps=tuner.get_best_hyperparameters(num_trials=1)[0]\n",
        "\n",
        "print(f\"\"\"\n",
        "SMOTE The hyperparameter search is complete. The optimal number of units in the first densely-connected\n",
        "layer is {best_hps.get('units')}  and the second densely-connected layer is {best_hps.get('units_2')}and the optimal learning rate for the optimizer\n",
        "is {best_hps.get('learning_rate')}. Dropout 1 is {best_hps.get('dropout_1')} and Dropout 2 is {best_hps.get('dropout_2')}\n",
        "\"\"\")"
      ],
      "execution_count": 103,
      "outputs": [
        {
          "output_type": "stream",
          "name": "stdout",
          "text": [
            "Trial 90 Complete [00h 00m 12s]\n",
            "val_accuracy: 0.3786982297897339\n",
            "\n",
            "Best val_accuracy So Far: 0.9437869787216187\n",
            "Total elapsed time: 00h 05m 07s\n",
            "INFO:tensorflow:Oracle triggered exit\n"
          ]
        },
        {
          "output_type": "stream",
          "name": "stderr",
          "text": [
            "INFO:tensorflow:Oracle triggered exit\n"
          ]
        },
        {
          "output_type": "stream",
          "name": "stdout",
          "text": [
            "\n",
            "SMOTE The hyperparameter search is complete. The optimal number of units in the first densely-connected\n",
            "layer is 96  and the second densely-connected layer is 96and the optimal learning rate for the optimizer\n",
            "is 0.01. Dropout 1 is 0.30000000000000004 and Dropout 2 is 0.1\n",
            "\n"
          ]
        }
      ]
    },
    {
      "cell_type": "code",
      "metadata": {
        "colab": {
          "base_uri": "https://localhost:8080/"
        },
        "id": "n1vNl-9DWFMI",
        "outputId": "0bc31d2b-5fb5-42b7-a1f0-3f048ef18ffa"
      },
      "source": [
        "# Build the model with the optimal hyperparameters and train it on the data for 50 epochs\n",
        "model = tuner.hypermodel.build(best_hps)\n",
        "history = model.fit(X_train, Y_train, epochs=50, validation_split=0.2)\n",
        "\n",
        "val_acc_per_epoch = history.history['val_accuracy']\n",
        "best_epoch = val_acc_per_epoch.index(max(val_acc_per_epoch)) + 1\n",
        "print('Best epoch: %d' % (best_epoch,))"
      ],
      "execution_count": 104,
      "outputs": [
        {
          "output_type": "stream",
          "name": "stdout",
          "text": [
            "Epoch 1/50\n",
            "43/43 [==============================] - 1s 9ms/step - loss: 0.2287 - accuracy: 0.6343 - val_loss: 0.3399 - val_accuracy: 0.1716\n",
            "Epoch 2/50\n",
            "43/43 [==============================] - 0s 6ms/step - loss: 0.2177 - accuracy: 0.6669 - val_loss: 0.4018 - val_accuracy: 0.1953\n",
            "Epoch 3/50\n",
            "43/43 [==============================] - 0s 6ms/step - loss: 0.2105 - accuracy: 0.6736 - val_loss: 0.3462 - val_accuracy: 0.1391\n",
            "Epoch 4/50\n",
            "43/43 [==============================] - 0s 5ms/step - loss: 0.2081 - accuracy: 0.6684 - val_loss: 0.3923 - val_accuracy: 0.1864\n",
            "Epoch 5/50\n",
            "43/43 [==============================] - 0s 5ms/step - loss: 0.2089 - accuracy: 0.6795 - val_loss: 0.2339 - val_accuracy: 0.5740\n",
            "Epoch 6/50\n",
            "43/43 [==============================] - 0s 6ms/step - loss: 0.2051 - accuracy: 0.6773 - val_loss: 0.3242 - val_accuracy: 0.4320\n",
            "Epoch 7/50\n",
            "43/43 [==============================] - 0s 6ms/step - loss: 0.2059 - accuracy: 0.6840 - val_loss: 0.3635 - val_accuracy: 0.2396\n",
            "Epoch 8/50\n",
            "43/43 [==============================] - 0s 6ms/step - loss: 0.2021 - accuracy: 0.6847 - val_loss: 0.3778 - val_accuracy: 0.1775\n",
            "Epoch 9/50\n",
            "43/43 [==============================] - 0s 6ms/step - loss: 0.2003 - accuracy: 0.6869 - val_loss: 0.3538 - val_accuracy: 0.2811\n",
            "Epoch 10/50\n",
            "43/43 [==============================] - 0s 6ms/step - loss: 0.1980 - accuracy: 0.6929 - val_loss: 0.3264 - val_accuracy: 0.3107\n",
            "Epoch 11/50\n",
            "43/43 [==============================] - 0s 6ms/step - loss: 0.1968 - accuracy: 0.7040 - val_loss: 0.3812 - val_accuracy: 0.2722\n",
            "Epoch 12/50\n",
            "43/43 [==============================] - 0s 6ms/step - loss: 0.1960 - accuracy: 0.6884 - val_loss: 0.3562 - val_accuracy: 0.2337\n",
            "Epoch 13/50\n",
            "43/43 [==============================] - 0s 7ms/step - loss: 0.1968 - accuracy: 0.6914 - val_loss: 0.2724 - val_accuracy: 0.4408\n",
            "Epoch 14/50\n",
            "43/43 [==============================] - 0s 7ms/step - loss: 0.1965 - accuracy: 0.7077 - val_loss: 0.3236 - val_accuracy: 0.3580\n",
            "Epoch 15/50\n",
            "43/43 [==============================] - 0s 7ms/step - loss: 0.2005 - accuracy: 0.6795 - val_loss: 0.3305 - val_accuracy: 0.2899\n",
            "Epoch 16/50\n",
            "43/43 [==============================] - 0s 6ms/step - loss: 0.1921 - accuracy: 0.6892 - val_loss: 0.3608 - val_accuracy: 0.3817\n",
            "Epoch 17/50\n",
            "43/43 [==============================] - 0s 6ms/step - loss: 0.1907 - accuracy: 0.7055 - val_loss: 0.3535 - val_accuracy: 0.3166\n",
            "Epoch 18/50\n",
            "43/43 [==============================] - 0s 6ms/step - loss: 0.1868 - accuracy: 0.7077 - val_loss: 0.2471 - val_accuracy: 0.5917\n",
            "Epoch 19/50\n",
            "43/43 [==============================] - 0s 6ms/step - loss: 0.1913 - accuracy: 0.7033 - val_loss: 0.4604 - val_accuracy: 0.1775\n",
            "Epoch 20/50\n",
            "43/43 [==============================] - 0s 5ms/step - loss: 0.1861 - accuracy: 0.7047 - val_loss: 0.3152 - val_accuracy: 0.4379\n",
            "Epoch 21/50\n",
            "43/43 [==============================] - 0s 6ms/step - loss: 0.1920 - accuracy: 0.7040 - val_loss: 0.2897 - val_accuracy: 0.4793\n",
            "Epoch 22/50\n",
            "43/43 [==============================] - 0s 6ms/step - loss: 0.1792 - accuracy: 0.7263 - val_loss: 0.3199 - val_accuracy: 0.5178\n",
            "Epoch 23/50\n",
            "43/43 [==============================] - 0s 7ms/step - loss: 0.1861 - accuracy: 0.7159 - val_loss: 0.3282 - val_accuracy: 0.3935\n",
            "Epoch 24/50\n",
            "43/43 [==============================] - 0s 5ms/step - loss: 0.1882 - accuracy: 0.7055 - val_loss: 0.3195 - val_accuracy: 0.4142\n",
            "Epoch 25/50\n",
            "43/43 [==============================] - 0s 5ms/step - loss: 0.1838 - accuracy: 0.7174 - val_loss: 0.3177 - val_accuracy: 0.4763\n",
            "Epoch 26/50\n",
            "43/43 [==============================] - 0s 6ms/step - loss: 0.1797 - accuracy: 0.7285 - val_loss: 0.2950 - val_accuracy: 0.5207\n",
            "Epoch 27/50\n",
            "43/43 [==============================] - 0s 6ms/step - loss: 0.1799 - accuracy: 0.7255 - val_loss: 0.2771 - val_accuracy: 0.5740\n",
            "Epoch 28/50\n",
            "43/43 [==============================] - 0s 6ms/step - loss: 0.1766 - accuracy: 0.7366 - val_loss: 0.3219 - val_accuracy: 0.4704\n",
            "Epoch 29/50\n",
            "43/43 [==============================] - 0s 6ms/step - loss: 0.1815 - accuracy: 0.7122 - val_loss: 0.3178 - val_accuracy: 0.4438\n",
            "Epoch 30/50\n",
            "43/43 [==============================] - 0s 6ms/step - loss: 0.1785 - accuracy: 0.7248 - val_loss: 0.3179 - val_accuracy: 0.5089\n",
            "Epoch 31/50\n",
            "43/43 [==============================] - 0s 5ms/step - loss: 0.1754 - accuracy: 0.7411 - val_loss: 0.3229 - val_accuracy: 0.4290\n",
            "Epoch 32/50\n",
            "43/43 [==============================] - 0s 6ms/step - loss: 0.1782 - accuracy: 0.7404 - val_loss: 0.2466 - val_accuracy: 0.6331\n",
            "Epoch 33/50\n",
            "43/43 [==============================] - 0s 6ms/step - loss: 0.1745 - accuracy: 0.7307 - val_loss: 0.4184 - val_accuracy: 0.3669\n",
            "Epoch 34/50\n",
            "43/43 [==============================] - 0s 6ms/step - loss: 0.1803 - accuracy: 0.7174 - val_loss: 0.3035 - val_accuracy: 0.4970\n",
            "Epoch 35/50\n",
            "43/43 [==============================] - 0s 6ms/step - loss: 0.1735 - accuracy: 0.7404 - val_loss: 0.3018 - val_accuracy: 0.4970\n",
            "Epoch 36/50\n",
            "43/43 [==============================] - 0s 6ms/step - loss: 0.1693 - accuracy: 0.7537 - val_loss: 0.3121 - val_accuracy: 0.5059\n",
            "Epoch 37/50\n",
            "43/43 [==============================] - 0s 6ms/step - loss: 0.1724 - accuracy: 0.7441 - val_loss: 0.2935 - val_accuracy: 0.5947\n",
            "Epoch 38/50\n",
            "43/43 [==============================] - 0s 7ms/step - loss: 0.1676 - accuracy: 0.7433 - val_loss: 0.3163 - val_accuracy: 0.4793\n",
            "Epoch 39/50\n",
            "43/43 [==============================] - 0s 6ms/step - loss: 0.1682 - accuracy: 0.7329 - val_loss: 0.3115 - val_accuracy: 0.5148\n",
            "Epoch 40/50\n",
            "43/43 [==============================] - 0s 6ms/step - loss: 0.1697 - accuracy: 0.7344 - val_loss: 0.3306 - val_accuracy: 0.4941\n",
            "Epoch 41/50\n",
            "43/43 [==============================] - 0s 6ms/step - loss: 0.1685 - accuracy: 0.7545 - val_loss: 0.3251 - val_accuracy: 0.4615\n",
            "Epoch 42/50\n",
            "43/43 [==============================] - 0s 6ms/step - loss: 0.1676 - accuracy: 0.7537 - val_loss: 0.3263 - val_accuracy: 0.5414\n",
            "Epoch 43/50\n",
            "43/43 [==============================] - 0s 6ms/step - loss: 0.1713 - accuracy: 0.7396 - val_loss: 0.3138 - val_accuracy: 0.5148\n",
            "Epoch 44/50\n",
            "43/43 [==============================] - 0s 6ms/step - loss: 0.1617 - accuracy: 0.7619 - val_loss: 0.2982 - val_accuracy: 0.5414\n",
            "Epoch 45/50\n",
            "43/43 [==============================] - 0s 6ms/step - loss: 0.1645 - accuracy: 0.7656 - val_loss: 0.3201 - val_accuracy: 0.4615\n",
            "Epoch 46/50\n",
            "43/43 [==============================] - 0s 7ms/step - loss: 0.1790 - accuracy: 0.7441 - val_loss: 0.2822 - val_accuracy: 0.5266\n",
            "Epoch 47/50\n",
            "43/43 [==============================] - 0s 5ms/step - loss: 0.1748 - accuracy: 0.7441 - val_loss: 0.2794 - val_accuracy: 0.5740\n",
            "Epoch 48/50\n",
            "43/43 [==============================] - 0s 6ms/step - loss: 0.1689 - accuracy: 0.7545 - val_loss: 0.2502 - val_accuracy: 0.6331\n",
            "Epoch 49/50\n",
            "43/43 [==============================] - 0s 7ms/step - loss: 0.1629 - accuracy: 0.7589 - val_loss: 0.2233 - val_accuracy: 0.7041\n",
            "Epoch 50/50\n",
            "43/43 [==============================] - 0s 6ms/step - loss: 0.1555 - accuracy: 0.7715 - val_loss: 0.2543 - val_accuracy: 0.5740\n",
            "Best epoch: 49\n"
          ]
        }
      ]
    },
    {
      "cell_type": "code",
      "metadata": {
        "colab": {
          "base_uri": "https://localhost:8080/"
        },
        "id": "4J90FquQWFMI",
        "outputId": "d03bd3d0-f7d7-4eea-f35e-e4171b468af3"
      },
      "source": [
        "hypermodel = tuner.hypermodel.build(best_hps)\n",
        "\n",
        "# Retrain the model\n",
        "hypermodel.fit(X_train, Y_train, epochs=best_epoch, validation_split=0.2)"
      ],
      "execution_count": 105,
      "outputs": [
        {
          "output_type": "stream",
          "name": "stdout",
          "text": [
            "Epoch 1/49\n",
            "43/43 [==============================] - 1s 10ms/step - loss: 0.2317 - accuracy: 0.6306 - val_loss: 0.4340 - val_accuracy: 0.0266\n",
            "Epoch 2/49\n",
            "43/43 [==============================] - 0s 6ms/step - loss: 0.2193 - accuracy: 0.6588 - val_loss: 0.3042 - val_accuracy: 0.3107\n",
            "Epoch 3/49\n",
            "43/43 [==============================] - 0s 6ms/step - loss: 0.2139 - accuracy: 0.6699 - val_loss: 0.3250 - val_accuracy: 0.1124\n",
            "Epoch 4/49\n",
            "43/43 [==============================] - 0s 6ms/step - loss: 0.2077 - accuracy: 0.6736 - val_loss: 0.3438 - val_accuracy: 0.2663\n",
            "Epoch 5/49\n",
            "43/43 [==============================] - 0s 6ms/step - loss: 0.2071 - accuracy: 0.6758 - val_loss: 0.3614 - val_accuracy: 0.1154\n",
            "Epoch 6/49\n",
            "43/43 [==============================] - 0s 6ms/step - loss: 0.2013 - accuracy: 0.6862 - val_loss: 0.4233 - val_accuracy: 0.2219\n",
            "Epoch 7/49\n",
            "43/43 [==============================] - 0s 6ms/step - loss: 0.2056 - accuracy: 0.6728 - val_loss: 0.3803 - val_accuracy: 0.2071\n",
            "Epoch 8/49\n",
            "43/43 [==============================] - 0s 6ms/step - loss: 0.2009 - accuracy: 0.6758 - val_loss: 0.3688 - val_accuracy: 0.2160\n",
            "Epoch 9/49\n",
            "43/43 [==============================] - 0s 5ms/step - loss: 0.2005 - accuracy: 0.6766 - val_loss: 0.3133 - val_accuracy: 0.4586\n",
            "Epoch 10/49\n",
            "43/43 [==============================] - 0s 6ms/step - loss: 0.1994 - accuracy: 0.6892 - val_loss: 0.2845 - val_accuracy: 0.5325\n",
            "Epoch 11/49\n",
            "43/43 [==============================] - 0s 6ms/step - loss: 0.2018 - accuracy: 0.6810 - val_loss: 0.3015 - val_accuracy: 0.3876\n",
            "Epoch 12/49\n",
            "43/43 [==============================] - 0s 7ms/step - loss: 0.1931 - accuracy: 0.7070 - val_loss: 0.2753 - val_accuracy: 0.5503\n",
            "Epoch 13/49\n",
            "43/43 [==============================] - 0s 6ms/step - loss: 0.1988 - accuracy: 0.7025 - val_loss: 0.2850 - val_accuracy: 0.4911\n",
            "Epoch 14/49\n",
            "43/43 [==============================] - 0s 6ms/step - loss: 0.1952 - accuracy: 0.7055 - val_loss: 0.3448 - val_accuracy: 0.3521\n",
            "Epoch 15/49\n",
            "43/43 [==============================] - 0s 7ms/step - loss: 0.1921 - accuracy: 0.6914 - val_loss: 0.2686 - val_accuracy: 0.5828\n",
            "Epoch 16/49\n",
            "43/43 [==============================] - 0s 7ms/step - loss: 0.1919 - accuracy: 0.6929 - val_loss: 0.3453 - val_accuracy: 0.3077\n",
            "Epoch 17/49\n",
            "43/43 [==============================] - 0s 6ms/step - loss: 0.1863 - accuracy: 0.7211 - val_loss: 0.2574 - val_accuracy: 0.6272\n",
            "Epoch 18/49\n",
            "43/43 [==============================] - 0s 6ms/step - loss: 0.1879 - accuracy: 0.7166 - val_loss: 0.3206 - val_accuracy: 0.4497\n",
            "Epoch 19/49\n",
            "43/43 [==============================] - 0s 6ms/step - loss: 0.1817 - accuracy: 0.7359 - val_loss: 0.3640 - val_accuracy: 0.4734\n",
            "Epoch 20/49\n",
            "43/43 [==============================] - 0s 7ms/step - loss: 0.1871 - accuracy: 0.7255 - val_loss: 0.2551 - val_accuracy: 0.6065\n",
            "Epoch 21/49\n",
            "43/43 [==============================] - 0s 5ms/step - loss: 0.1804 - accuracy: 0.7196 - val_loss: 0.3972 - val_accuracy: 0.3195\n",
            "Epoch 22/49\n",
            "43/43 [==============================] - 0s 6ms/step - loss: 0.1863 - accuracy: 0.7196 - val_loss: 0.2991 - val_accuracy: 0.4408\n",
            "Epoch 23/49\n",
            "43/43 [==============================] - 0s 6ms/step - loss: 0.1887 - accuracy: 0.7077 - val_loss: 0.3601 - val_accuracy: 0.2959\n",
            "Epoch 24/49\n",
            "43/43 [==============================] - 0s 6ms/step - loss: 0.1821 - accuracy: 0.7211 - val_loss: 0.2480 - val_accuracy: 0.6154\n",
            "Epoch 25/49\n",
            "43/43 [==============================] - 0s 6ms/step - loss: 0.1820 - accuracy: 0.7307 - val_loss: 0.3366 - val_accuracy: 0.3935\n",
            "Epoch 26/49\n",
            "43/43 [==============================] - 0s 6ms/step - loss: 0.1883 - accuracy: 0.7003 - val_loss: 0.3371 - val_accuracy: 0.4201\n",
            "Epoch 27/49\n",
            "43/43 [==============================] - 0s 7ms/step - loss: 0.1803 - accuracy: 0.7070 - val_loss: 0.2727 - val_accuracy: 0.6036\n",
            "Epoch 28/49\n",
            "43/43 [==============================] - 0s 5ms/step - loss: 0.1784 - accuracy: 0.7396 - val_loss: 0.3746 - val_accuracy: 0.3846\n",
            "Epoch 29/49\n",
            "43/43 [==============================] - 0s 5ms/step - loss: 0.1756 - accuracy: 0.7329 - val_loss: 0.2702 - val_accuracy: 0.5473\n",
            "Epoch 30/49\n",
            "43/43 [==============================] - 0s 7ms/step - loss: 0.1786 - accuracy: 0.7329 - val_loss: 0.3050 - val_accuracy: 0.4852\n",
            "Epoch 31/49\n",
            "43/43 [==============================] - 0s 6ms/step - loss: 0.1750 - accuracy: 0.7322 - val_loss: 0.3285 - val_accuracy: 0.4645\n",
            "Epoch 32/49\n",
            "43/43 [==============================] - 0s 6ms/step - loss: 0.1786 - accuracy: 0.7300 - val_loss: 0.2874 - val_accuracy: 0.5769\n",
            "Epoch 33/49\n",
            "43/43 [==============================] - 0s 5ms/step - loss: 0.1758 - accuracy: 0.7329 - val_loss: 0.2606 - val_accuracy: 0.5473\n",
            "Epoch 34/49\n",
            "43/43 [==============================] - 0s 7ms/step - loss: 0.1794 - accuracy: 0.7255 - val_loss: 0.3423 - val_accuracy: 0.4645\n",
            "Epoch 35/49\n",
            "43/43 [==============================] - 0s 6ms/step - loss: 0.1756 - accuracy: 0.7329 - val_loss: 0.3045 - val_accuracy: 0.5207\n",
            "Epoch 36/49\n",
            "43/43 [==============================] - 0s 6ms/step - loss: 0.1688 - accuracy: 0.7337 - val_loss: 0.3296 - val_accuracy: 0.5059\n",
            "Epoch 37/49\n",
            "43/43 [==============================] - 0s 5ms/step - loss: 0.1650 - accuracy: 0.7574 - val_loss: 0.2781 - val_accuracy: 0.6568\n",
            "Epoch 38/49\n",
            "43/43 [==============================] - 0s 6ms/step - loss: 0.1667 - accuracy: 0.7426 - val_loss: 0.4502 - val_accuracy: 0.2633\n",
            "Epoch 39/49\n",
            "43/43 [==============================] - 0s 7ms/step - loss: 0.1733 - accuracy: 0.7411 - val_loss: 0.2872 - val_accuracy: 0.5858\n",
            "Epoch 40/49\n",
            "43/43 [==============================] - 0s 6ms/step - loss: 0.1776 - accuracy: 0.7248 - val_loss: 0.4580 - val_accuracy: 0.2396\n",
            "Epoch 41/49\n",
            "43/43 [==============================] - 0s 6ms/step - loss: 0.1713 - accuracy: 0.7389 - val_loss: 0.3094 - val_accuracy: 0.4734\n",
            "Epoch 42/49\n",
            "43/43 [==============================] - 0s 6ms/step - loss: 0.1689 - accuracy: 0.7493 - val_loss: 0.2389 - val_accuracy: 0.6479\n",
            "Epoch 43/49\n",
            "43/43 [==============================] - 0s 5ms/step - loss: 0.1762 - accuracy: 0.7300 - val_loss: 0.2573 - val_accuracy: 0.6331\n",
            "Epoch 44/49\n",
            "43/43 [==============================] - 0s 6ms/step - loss: 0.1697 - accuracy: 0.7441 - val_loss: 0.3348 - val_accuracy: 0.4763\n",
            "Epoch 45/49\n",
            "43/43 [==============================] - 0s 6ms/step - loss: 0.1616 - accuracy: 0.7619 - val_loss: 0.3421 - val_accuracy: 0.4704\n",
            "Epoch 46/49\n",
            "43/43 [==============================] - 0s 6ms/step - loss: 0.1640 - accuracy: 0.7552 - val_loss: 0.3544 - val_accuracy: 0.4527\n",
            "Epoch 47/49\n",
            "43/43 [==============================] - 0s 6ms/step - loss: 0.1651 - accuracy: 0.7530 - val_loss: 0.3280 - val_accuracy: 0.4675\n",
            "Epoch 48/49\n",
            "43/43 [==============================] - 0s 6ms/step - loss: 0.1645 - accuracy: 0.7678 - val_loss: 0.2161 - val_accuracy: 0.6657\n",
            "Epoch 49/49\n",
            "43/43 [==============================] - 0s 6ms/step - loss: 0.1668 - accuracy: 0.7418 - val_loss: 0.2446 - val_accuracy: 0.6509\n"
          ]
        },
        {
          "output_type": "execute_result",
          "data": {
            "text/plain": [
              "<keras.callbacks.History at 0x7fe5ab5f21d0>"
            ]
          },
          "metadata": {},
          "execution_count": 105
        }
      ]
    },
    {
      "cell_type": "code",
      "metadata": {
        "colab": {
          "base_uri": "https://localhost:8080/"
        },
        "id": "2Eo57V2tWFMJ",
        "outputId": "49e757fb-6289-4d8a-e313-10f3fb9fcd22"
      },
      "source": [
        "eval_result = hypermodel.evaluate(X_test, Y_test)\n",
        "print(\"[test loss, test accuracy]:\", eval_result)"
      ],
      "execution_count": 106,
      "outputs": [
        {
          "output_type": "stream",
          "name": "stdout",
          "text": [
            "15/15 [==============================] - 0s 3ms/step - loss: 0.1920 - accuracy: 0.6948\n",
            "[test loss, test accuracy]: [0.19196873903274536, 0.6948052048683167]\n"
          ]
        }
      ]
    },
    {
      "cell_type": "code",
      "metadata": {
        "colab": {
          "base_uri": "https://localhost:8080/"
        },
        "id": "GwTa-Q50WFMJ",
        "outputId": "6c5e852d-e3b1-448f-e81f-9a78002f17e0"
      },
      "source": [
        "hypermodel.summary()"
      ],
      "execution_count": 107,
      "outputs": [
        {
          "output_type": "stream",
          "name": "stdout",
          "text": [
            "Model: \"sequential_2\"\n",
            "_________________________________________________________________\n",
            " Layer (type)                Output Shape              Param #   \n",
            "=================================================================\n",
            " dense_6 (Dense)             (None, 96)                1824      \n",
            "                                                                 \n",
            " dropout_4 (Dropout)         (None, 96)                0         \n",
            "                                                                 \n",
            " dense_7 (Dense)             (None, 96)                9312      \n",
            "                                                                 \n",
            " dropout_5 (Dropout)         (None, 96)                0         \n",
            "                                                                 \n",
            " dense_8 (Dense)             (None, 1)                 97        \n",
            "                                                                 \n",
            "=================================================================\n",
            "Total params: 11,233\n",
            "Trainable params: 11,233\n",
            "Non-trainable params: 0\n",
            "_________________________________________________________________\n"
          ]
        }
      ]
    },
    {
      "cell_type": "code",
      "metadata": {
        "id": "ERGDXsEFWFMK"
      },
      "source": [
        " y_pred = hypermodel.predict(X_test)"
      ],
      "execution_count": 108,
      "outputs": []
    },
    {
      "cell_type": "code",
      "metadata": {
        "id": "CwDAoXvGWFMK"
      },
      "source": [
        "y_pred = np.where(y_pred > 0.5, 1, 0)"
      ],
      "execution_count": 109,
      "outputs": []
    },
    {
      "cell_type": "code",
      "metadata": {
        "colab": {
          "base_uri": "https://localhost:8080/"
        },
        "id": "GBJuCApoWFML",
        "outputId": "237b743d-2f00-4b41-f7ff-fa3c8b12d111"
      },
      "source": [
        "from sklearn.metrics import precision_recall_fscore_support\n",
        "from sklearn.metrics import accuracy_score, precision_score, recall_score, f1_score, roc_auc_score, roc_curve, auc, precision_recall_curve\n",
        " #calc metrics\n",
        "actual = Y_test\n",
        "predicted = y_pred\n",
        "curr_macro_prec = precision_score(actual, predicted,average='weighted')\n",
        "curr_macro_rec = recall_score(actual, predicted,average='weighted')\n",
        "curr_macro_f1 = f1_score(actual, predicted,average='weighted')\n",
        "\n",
        "print('Weighted Precision',curr_macro_prec)\n",
        "print('Weighted Recall',curr_macro_rec)\n",
        "print('Weighted F1',curr_macro_f1)"
      ],
      "execution_count": 110,
      "outputs": [
        {
          "output_type": "stream",
          "name": "stdout",
          "text": [
            "Weighted Precision 0.7366894891708786\n",
            "Weighted Recall 0.6948051948051948\n",
            "Weighted F1 0.7123680582407628\n"
          ]
        }
      ]
    },
    {
      "cell_type": "code",
      "metadata": {
        "id": "NMKKUO2TaqEp"
      },
      "source": [
        "!zip -r /content/ann_keras_outs.zip /content/my_dir"
      ],
      "execution_count": null,
      "outputs": []
    },
    {
      "cell_type": "code",
      "metadata": {
        "colab": {
          "base_uri": "https://localhost:8080/",
          "height": 17
        },
        "id": "eLUOoCKKatoJ",
        "outputId": "b220bc38-2ae4-4fa0-b0cd-7ca56baea432"
      },
      "source": [
        "from google.colab import files\n",
        "files.download(\"/content/ann_keras_outs.zip\")"
      ],
      "execution_count": 112,
      "outputs": [
        {
          "output_type": "display_data",
          "data": {
            "application/javascript": [
              "\n",
              "    async function download(id, filename, size) {\n",
              "      if (!google.colab.kernel.accessAllowed) {\n",
              "        return;\n",
              "      }\n",
              "      const div = document.createElement('div');\n",
              "      const label = document.createElement('label');\n",
              "      label.textContent = `Downloading \"${filename}\": `;\n",
              "      div.appendChild(label);\n",
              "      const progress = document.createElement('progress');\n",
              "      progress.max = size;\n",
              "      div.appendChild(progress);\n",
              "      document.body.appendChild(div);\n",
              "\n",
              "      const buffers = [];\n",
              "      let downloaded = 0;\n",
              "\n",
              "      const channel = await google.colab.kernel.comms.open(id);\n",
              "      // Send a message to notify the kernel that we're ready.\n",
              "      channel.send({})\n",
              "\n",
              "      for await (const message of channel.messages) {\n",
              "        // Send a message to notify the kernel that we're ready.\n",
              "        channel.send({})\n",
              "        if (message.buffers) {\n",
              "          for (const buffer of message.buffers) {\n",
              "            buffers.push(buffer);\n",
              "            downloaded += buffer.byteLength;\n",
              "            progress.value = downloaded;\n",
              "          }\n",
              "        }\n",
              "      }\n",
              "      const blob = new Blob(buffers, {type: 'application/binary'});\n",
              "      const a = document.createElement('a');\n",
              "      a.href = window.URL.createObjectURL(blob);\n",
              "      a.download = filename;\n",
              "      div.appendChild(a);\n",
              "      a.click();\n",
              "      div.remove();\n",
              "    }\n",
              "  "
            ],
            "text/plain": [
              "<IPython.core.display.Javascript object>"
            ]
          },
          "metadata": {}
        },
        {
          "output_type": "display_data",
          "data": {
            "application/javascript": [
              "download(\"download_02fd344c-b7c7-434a-96c0-111c594c04e0\", \"ann_keras_outs.zip\", 776778453)"
            ],
            "text/plain": [
              "<IPython.core.display.Javascript object>"
            ]
          },
          "metadata": {}
        }
      ]
    },
    {
      "cell_type": "code",
      "metadata": {
        "id": "dWQQLtLLbEz5"
      },
      "source": [
        ""
      ],
      "execution_count": null,
      "outputs": []
    }
  ]
}